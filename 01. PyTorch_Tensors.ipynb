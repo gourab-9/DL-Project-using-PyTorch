{
  "nbformat": 4,
  "nbformat_minor": 0,
  "metadata": {
    "colab": {
      "provenance": []
    },
    "kernelspec": {
      "name": "python3",
      "display_name": "Python 3"
    },
    "language_info": {
      "name": "python"
    }
  },
  "cells": [
    {
      "cell_type": "markdown",
      "source": [
        "## What are Tensors?"
      ],
      "metadata": {
        "id": "cEkyX1R_a50M"
      }
    },
    {
      "cell_type": "markdown",
      "source": [
        "Tensors are a fundamental data structure used in the field of machine learning and scientific computing.\n",
        "At their core, tensors are multi-dimensional arrays"
      ],
      "metadata": {
        "id": "DIaD_ETia8vN"
      }
    },
    {
      "cell_type": "markdown",
      "source": [
        "First, we'll import pytorch."
      ],
      "metadata": {
        "id": "1Wt5zhUqa_CL"
      }
    },
    {
      "cell_type": "code",
      "execution_count": 1,
      "metadata": {
        "id": "GQ9cXWrxawdP"
      },
      "outputs": [],
      "source": [
        "import torch"
      ]
    },
    {
      "cell_type": "markdown",
      "source": [
        "Let's see a few basic tensor manipulations. First, just a few of the ways to create tensors:"
      ],
      "metadata": {
        "id": "phWgN3r4bEI2"
      }
    },
    {
      "cell_type": "code",
      "source": [
        "# Using a List\n",
        "\n",
        "lst = list(range(10))\n",
        "print(f\"List :{lst}\")\n",
        "\n",
        "a = torch.tensor(lst)\n",
        "print(f\"Torch Tensor:{a}\")"
      ],
      "metadata": {
        "colab": {
          "base_uri": "https://localhost:8080/"
        },
        "id": "v_fceb0hbCfx",
        "outputId": "85770cd4-548c-45ed-b0c8-d21282749fb9"
      },
      "execution_count": 2,
      "outputs": [
        {
          "output_type": "stream",
          "name": "stdout",
          "text": [
            "List :[0, 1, 2, 3, 4, 5, 6, 7, 8, 9]\n",
            "Torch Tensor:tensor([0, 1, 2, 3, 4, 5, 6, 7, 8, 9])\n"
          ]
        }
      ]
    },
    {
      "cell_type": "code",
      "source": [
        "# Creating a 2D tensor (matrix)\n",
        "tensor_2d = torch.tensor([[1, 2, 3],\n",
        "                          [4, 5, 6]])\n",
        "\n",
        "# Creating a 3D tensor\n",
        "tensor_3d = torch.tensor([[[1, 2, 3],\n",
        "                           [4, 5, 6]],\n",
        "                          [[7, 8, 9],\n",
        "                           [10, 11, 12]]])\n",
        "\n",
        "# Creating a 4D tensor\n",
        "tensor_4d = torch.tensor([[[[1, 2],\n",
        "                            [3, 4]],\n",
        "                           [[5, 6],\n",
        "                            [7, 8]]],\n",
        "                          [[[9, 10],\n",
        "                            [11, 12]],\n",
        "                           [[13, 14],\n",
        "                            [15, 16]]]])\n",
        "\n",
        "# Print the tensors\n",
        "print(\"2D Tensor (Matrix):\")\n",
        "print(tensor_2d)\n",
        "print(\"Shape:\", tensor_2d.shape)\n",
        "\n",
        "print(\"\\n3D Tensor:\")\n",
        "print(tensor_3d)\n",
        "print(\"Shape:\", tensor_3d.shape)\n",
        "\n",
        "print(\"\\n4D Tensor:\")\n",
        "print(tensor_4d)\n",
        "print(\"Shape:\", tensor_4d.shape)\n"
      ],
      "metadata": {
        "colab": {
          "base_uri": "https://localhost:8080/"
        },
        "id": "e9_az4rabGLn",
        "outputId": "6b5dc731-a48d-40f7-e117-7a6869e1668b"
      },
      "execution_count": 3,
      "outputs": [
        {
          "output_type": "stream",
          "name": "stdout",
          "text": [
            "2D Tensor (Matrix):\n",
            "tensor([[1, 2, 3],\n",
            "        [4, 5, 6]])\n",
            "Shape: torch.Size([2, 3])\n",
            "\n",
            "3D Tensor:\n",
            "tensor([[[ 1,  2,  3],\n",
            "         [ 4,  5,  6]],\n",
            "\n",
            "        [[ 7,  8,  9],\n",
            "         [10, 11, 12]]])\n",
            "Shape: torch.Size([2, 2, 3])\n",
            "\n",
            "4D Tensor:\n",
            "tensor([[[[ 1,  2],\n",
            "          [ 3,  4]],\n",
            "\n",
            "         [[ 5,  6],\n",
            "          [ 7,  8]]],\n",
            "\n",
            "\n",
            "        [[[ 9, 10],\n",
            "          [11, 12]],\n",
            "\n",
            "         [[13, 14],\n",
            "          [15, 16]]]])\n",
            "Shape: torch.Size([2, 2, 2, 2])\n"
          ]
        }
      ]
    },
    {
      "cell_type": "code",
      "source": [
        "tensor_2d.dtype"
      ],
      "metadata": {
        "colab": {
          "base_uri": "https://localhost:8080/"
        },
        "id": "PGUcB_f4bJu4",
        "outputId": "f3302954-638c-45f5-bffc-3e9b69079899"
      },
      "execution_count": 4,
      "outputs": [
        {
          "output_type": "execute_result",
          "data": {
            "text/plain": [
              "torch.int64"
            ]
          },
          "metadata": {},
          "execution_count": 4
        }
      ]
    },
    {
      "cell_type": "code",
      "source": [
        "# Using a Numpy Array\n",
        "import numpy as np\n",
        "\n",
        "np_array = np.array(list(range(10)))\n",
        "print(f\"Numpy array:{np_array} || datatype : {type(np_array)}\")\n",
        "\n",
        "# Convert NumPy array to PyTorch tensor\n",
        "torch_tensor = torch.tensor(np_array)\n",
        "# or\n",
        "torch_tensor = torch.from_numpy(np_array)\n",
        "print(f\"Torch Tensor:{torch_tensor} || datatype : {type(torch_tensor)}\")\n",
        "\n",
        "# Convert tensor to numpy array\n",
        "c = torch_tensor.numpy()\n",
        "print(f\"Numpy array:{c} || datatype : {type(c)}\")"
      ],
      "metadata": {
        "colab": {
          "base_uri": "https://localhost:8080/"
        },
        "id": "EBaZLP3FbMop",
        "outputId": "ecaa428b-7c86-4e86-b754-9f1d987dbc11"
      },
      "execution_count": 5,
      "outputs": [
        {
          "output_type": "stream",
          "name": "stdout",
          "text": [
            "Numpy array:[0 1 2 3 4 5 6 7 8 9] || datatype : <class 'numpy.ndarray'>\n",
            "Torch Tensor:tensor([0, 1, 2, 3, 4, 5, 6, 7, 8, 9]) || datatype : <class 'torch.Tensor'>\n",
            "Numpy array:[0 1 2 3 4 5 6 7 8 9] || datatype : <class 'numpy.ndarray'>\n"
          ]
        }
      ]
    },
    {
      "cell_type": "code",
      "source": [
        "hashmap = {1:1,2:2,3:3}\n",
        "print(\"Datatype\",type(hashmap))\n",
        "print(torch.tensor(hashmap))"
      ],
      "metadata": {
        "colab": {
          "base_uri": "https://localhost:8080/",
          "height": 193
        },
        "id": "GbfbUGjIbOGh",
        "outputId": "917782da-3df1-486e-a86d-0ae541c4a06c"
      },
      "execution_count": 6,
      "outputs": [
        {
          "output_type": "stream",
          "name": "stdout",
          "text": [
            "Datatype <class 'dict'>\n"
          ]
        },
        {
          "output_type": "error",
          "ename": "RuntimeError",
          "evalue": "Could not infer dtype of dict",
          "traceback": [
            "\u001b[0;31m---------------------------------------------------------------------------\u001b[0m",
            "\u001b[0;31mRuntimeError\u001b[0m                              Traceback (most recent call last)",
            "\u001b[0;32m<ipython-input-6-727ec46efb90>\u001b[0m in \u001b[0;36m<cell line: 3>\u001b[0;34m()\u001b[0m\n\u001b[1;32m      1\u001b[0m \u001b[0mhashmap\u001b[0m \u001b[0;34m=\u001b[0m \u001b[0;34m{\u001b[0m\u001b[0;36m1\u001b[0m\u001b[0;34m:\u001b[0m\u001b[0;36m1\u001b[0m\u001b[0;34m,\u001b[0m\u001b[0;36m2\u001b[0m\u001b[0;34m:\u001b[0m\u001b[0;36m2\u001b[0m\u001b[0;34m,\u001b[0m\u001b[0;36m3\u001b[0m\u001b[0;34m:\u001b[0m\u001b[0;36m3\u001b[0m\u001b[0;34m}\u001b[0m\u001b[0;34m\u001b[0m\u001b[0;34m\u001b[0m\u001b[0m\n\u001b[1;32m      2\u001b[0m \u001b[0mprint\u001b[0m\u001b[0;34m(\u001b[0m\u001b[0;34m\"Datatype\"\u001b[0m\u001b[0;34m,\u001b[0m\u001b[0mtype\u001b[0m\u001b[0;34m(\u001b[0m\u001b[0mhashmap\u001b[0m\u001b[0;34m)\u001b[0m\u001b[0;34m)\u001b[0m\u001b[0;34m\u001b[0m\u001b[0;34m\u001b[0m\u001b[0m\n\u001b[0;32m----> 3\u001b[0;31m \u001b[0mprint\u001b[0m\u001b[0;34m(\u001b[0m\u001b[0mtorch\u001b[0m\u001b[0;34m.\u001b[0m\u001b[0mtensor\u001b[0m\u001b[0;34m(\u001b[0m\u001b[0mhashmap\u001b[0m\u001b[0;34m)\u001b[0m\u001b[0;34m)\u001b[0m\u001b[0;34m\u001b[0m\u001b[0;34m\u001b[0m\u001b[0m\n\u001b[0m",
            "\u001b[0;31mRuntimeError\u001b[0m: Could not infer dtype of dict"
          ]
        }
      ]
    },
    {
      "cell_type": "code",
      "source": [
        "hashset = set([1,22,3,5,6,4,8])\n",
        "print(type(hashset))\n",
        "print(torch.tensor(hashset))"
      ],
      "metadata": {
        "colab": {
          "base_uri": "https://localhost:8080/",
          "height": 193
        },
        "id": "lSjKorUSbQlW",
        "outputId": "52fc87dd-b050-456d-9927-2a051d26922e"
      },
      "execution_count": 7,
      "outputs": [
        {
          "output_type": "stream",
          "name": "stdout",
          "text": [
            "<class 'set'>\n"
          ]
        },
        {
          "output_type": "error",
          "ename": "RuntimeError",
          "evalue": "Could not infer dtype of set",
          "traceback": [
            "\u001b[0;31m---------------------------------------------------------------------------\u001b[0m",
            "\u001b[0;31mRuntimeError\u001b[0m                              Traceback (most recent call last)",
            "\u001b[0;32m<ipython-input-7-7ccd3f5e91ce>\u001b[0m in \u001b[0;36m<cell line: 3>\u001b[0;34m()\u001b[0m\n\u001b[1;32m      1\u001b[0m \u001b[0mhashset\u001b[0m \u001b[0;34m=\u001b[0m \u001b[0mset\u001b[0m\u001b[0;34m(\u001b[0m\u001b[0;34m[\u001b[0m\u001b[0;36m1\u001b[0m\u001b[0;34m,\u001b[0m\u001b[0;36m22\u001b[0m\u001b[0;34m,\u001b[0m\u001b[0;36m3\u001b[0m\u001b[0;34m,\u001b[0m\u001b[0;36m5\u001b[0m\u001b[0;34m,\u001b[0m\u001b[0;36m6\u001b[0m\u001b[0;34m,\u001b[0m\u001b[0;36m4\u001b[0m\u001b[0;34m,\u001b[0m\u001b[0;36m8\u001b[0m\u001b[0;34m]\u001b[0m\u001b[0;34m)\u001b[0m\u001b[0;34m\u001b[0m\u001b[0;34m\u001b[0m\u001b[0m\n\u001b[1;32m      2\u001b[0m \u001b[0mprint\u001b[0m\u001b[0;34m(\u001b[0m\u001b[0mtype\u001b[0m\u001b[0;34m(\u001b[0m\u001b[0mhashset\u001b[0m\u001b[0;34m)\u001b[0m\u001b[0;34m)\u001b[0m\u001b[0;34m\u001b[0m\u001b[0;34m\u001b[0m\u001b[0m\n\u001b[0;32m----> 3\u001b[0;31m \u001b[0mprint\u001b[0m\u001b[0;34m(\u001b[0m\u001b[0mtorch\u001b[0m\u001b[0;34m.\u001b[0m\u001b[0mtensor\u001b[0m\u001b[0;34m(\u001b[0m\u001b[0mhashset\u001b[0m\u001b[0;34m)\u001b[0m\u001b[0;34m)\u001b[0m\u001b[0;34m\u001b[0m\u001b[0;34m\u001b[0m\u001b[0m\n\u001b[0m",
            "\u001b[0;31mRuntimeError\u001b[0m: Could not infer dtype of set"
          ]
        }
      ]
    },
    {
      "cell_type": "code",
      "source": [
        "tup = tuple([(\"a\",2),(\"b\",4),(\"c\",6)])\n",
        "print(type(tup))\n",
        "print(torch.tensor(tup))"
      ],
      "metadata": {
        "colab": {
          "base_uri": "https://localhost:8080/",
          "height": 193
        },
        "id": "Wb46ncpUbUbi",
        "outputId": "edc4c764-80f4-40fe-a492-a6bdd6265d7d"
      },
      "execution_count": 8,
      "outputs": [
        {
          "output_type": "stream",
          "name": "stdout",
          "text": [
            "<class 'tuple'>\n"
          ]
        },
        {
          "output_type": "error",
          "ename": "ValueError",
          "evalue": "too many dimensions 'str'",
          "traceback": [
            "\u001b[0;31m---------------------------------------------------------------------------\u001b[0m",
            "\u001b[0;31mValueError\u001b[0m                                Traceback (most recent call last)",
            "\u001b[0;32m<ipython-input-8-669fa105f623>\u001b[0m in \u001b[0;36m<cell line: 3>\u001b[0;34m()\u001b[0m\n\u001b[1;32m      1\u001b[0m \u001b[0mtup\u001b[0m \u001b[0;34m=\u001b[0m \u001b[0mtuple\u001b[0m\u001b[0;34m(\u001b[0m\u001b[0;34m[\u001b[0m\u001b[0;34m(\u001b[0m\u001b[0;34m\"a\"\u001b[0m\u001b[0;34m,\u001b[0m\u001b[0;36m2\u001b[0m\u001b[0;34m)\u001b[0m\u001b[0;34m,\u001b[0m\u001b[0;34m(\u001b[0m\u001b[0;34m\"b\"\u001b[0m\u001b[0;34m,\u001b[0m\u001b[0;36m4\u001b[0m\u001b[0;34m)\u001b[0m\u001b[0;34m,\u001b[0m\u001b[0;34m(\u001b[0m\u001b[0;34m\"c\"\u001b[0m\u001b[0;34m,\u001b[0m\u001b[0;36m6\u001b[0m\u001b[0;34m)\u001b[0m\u001b[0;34m]\u001b[0m\u001b[0;34m)\u001b[0m\u001b[0;34m\u001b[0m\u001b[0;34m\u001b[0m\u001b[0m\n\u001b[1;32m      2\u001b[0m \u001b[0mprint\u001b[0m\u001b[0;34m(\u001b[0m\u001b[0mtype\u001b[0m\u001b[0;34m(\u001b[0m\u001b[0mtup\u001b[0m\u001b[0;34m)\u001b[0m\u001b[0;34m)\u001b[0m\u001b[0;34m\u001b[0m\u001b[0;34m\u001b[0m\u001b[0m\n\u001b[0;32m----> 3\u001b[0;31m \u001b[0mprint\u001b[0m\u001b[0;34m(\u001b[0m\u001b[0mtorch\u001b[0m\u001b[0;34m.\u001b[0m\u001b[0mtensor\u001b[0m\u001b[0;34m(\u001b[0m\u001b[0mtup\u001b[0m\u001b[0;34m)\u001b[0m\u001b[0;34m)\u001b[0m\u001b[0;34m\u001b[0m\u001b[0;34m\u001b[0m\u001b[0m\n\u001b[0m",
            "\u001b[0;31mValueError\u001b[0m: too many dimensions 'str'"
          ]
        }
      ]
    },
    {
      "cell_type": "code",
      "source": [
        "tup_uniform = tuple([(1,2),(3,4),(5,6)])\n",
        "print(type(tup_uniform))\n",
        "print(torch.tensor(tup_uniform))"
      ],
      "metadata": {
        "colab": {
          "base_uri": "https://localhost:8080/"
        },
        "id": "3w94MVVebWgW",
        "outputId": "d1353d4a-5096-4aca-c479-9087146efa48"
      },
      "execution_count": 9,
      "outputs": [
        {
          "output_type": "stream",
          "name": "stdout",
          "text": [
            "<class 'tuple'>\n",
            "tensor([[1, 2],\n",
            "        [3, 4],\n",
            "        [5, 6]])\n"
          ]
        }
      ]
    },
    {
      "cell_type": "code",
      "source": [
        "z = torch.zeros((5, 3))\n",
        "print(z)\n",
        "print(z.dtype)"
      ],
      "metadata": {
        "colab": {
          "base_uri": "https://localhost:8080/"
        },
        "id": "_mWgGT1mbYmq",
        "outputId": "7721572c-430c-49ef-bcaf-c84819c7f8b6"
      },
      "execution_count": 10,
      "outputs": [
        {
          "output_type": "stream",
          "name": "stdout",
          "text": [
            "tensor([[0., 0., 0.],\n",
            "        [0., 0., 0.],\n",
            "        [0., 0., 0.],\n",
            "        [0., 0., 0.],\n",
            "        [0., 0., 0.]])\n",
            "torch.float32\n"
          ]
        }
      ]
    },
    {
      "cell_type": "markdown",
      "source": [
        "Above, we create a 5x3 matrix filled with zeros,the zeros are 32-bit floating point numbers, which is the default PyTorch.\n",
        "\n",
        "We can change the default datatype as well."
      ],
      "metadata": {
        "id": "gddEs-gFbcox"
      }
    },
    {
      "cell_type": "code",
      "source": [
        "i = torch.ones((5, 3), dtype=torch.int16)\n",
        "print(i)"
      ],
      "metadata": {
        "colab": {
          "base_uri": "https://localhost:8080/"
        },
        "id": "Xok5oOBdbapu",
        "outputId": "72cd034b-d7c4-4c50-e682-4c3ea4a46005"
      },
      "execution_count": 11,
      "outputs": [
        {
          "output_type": "stream",
          "name": "stdout",
          "text": [
            "tensor([[1, 1, 1],\n",
            "        [1, 1, 1],\n",
            "        [1, 1, 1],\n",
            "        [1, 1, 1],\n",
            "        [1, 1, 1]], dtype=torch.int16)\n"
          ]
        }
      ]
    },
    {
      "cell_type": "markdown",
      "source": [
        "torch.rand() :Returns a tensor filled with random numbers from a uniform distribution on the interval [0, 1).\n",
        "\n",
        "It's common to initialize learning weights randomly, often with a specific seed for reproducibility of results:"
      ],
      "metadata": {
        "id": "YA8DrHRdbhct"
      }
    },
    {
      "cell_type": "code",
      "source": [
        "torch.manual_seed(1)\n",
        "r1 = torch.rand(2, 2)\n",
        "print('A random tensor:')\n",
        "print(r1)\n",
        "\n",
        "torch.manual_seed(42)\n",
        "r2 = torch.rand(2, 2)\n",
        "print('\\nA different random tensor:')\n",
        "print(r2) # new values\n",
        "\n",
        "torch.manual_seed(1)\n",
        "r3 = torch.rand(2, 2)\n",
        "print('\\nShould match r1:')\n",
        "print(r3) # repeats values of r1 because of re-seed"
      ],
      "metadata": {
        "colab": {
          "base_uri": "https://localhost:8080/"
        },
        "id": "ONdg4x1TbfFi",
        "outputId": "ef6e4835-f662-4be5-e284-7988ddc119d9"
      },
      "execution_count": 12,
      "outputs": [
        {
          "output_type": "stream",
          "name": "stdout",
          "text": [
            "A random tensor:\n",
            "tensor([[0.7576, 0.2793],\n",
            "        [0.4031, 0.7347]])\n",
            "\n",
            "A different random tensor:\n",
            "tensor([[0.8823, 0.9150],\n",
            "        [0.3829, 0.9593]])\n",
            "\n",
            "Should match r1:\n",
            "tensor([[0.7576, 0.2793],\n",
            "        [0.4031, 0.7347]])\n"
          ]
        }
      ]
    },
    {
      "cell_type": "code",
      "source": [
        "# Create a tensor\n",
        "tensor = torch.tensor([[1, 2, 3],\n",
        "                       [4, 5, 6],\n",
        "                       [7, 8, 9]])"
      ],
      "metadata": {
        "id": "1lvEz3nLbjQz"
      },
      "execution_count": 13,
      "outputs": []
    },
    {
      "cell_type": "code",
      "source": [
        "# Basic indexing: Access a single element\n",
        "print(\"Basic indexing - Single element:\", tensor[1, 2])"
      ],
      "metadata": {
        "colab": {
          "base_uri": "https://localhost:8080/"
        },
        "id": "APm2UKocbmGr",
        "outputId": "363887a7-e0ab-42af-b144-b446658dfe90"
      },
      "execution_count": 14,
      "outputs": [
        {
          "output_type": "stream",
          "name": "stdout",
          "text": [
            "Basic indexing - Single element: tensor(6)\n"
          ]
        }
      ]
    },
    {
      "cell_type": "code",
      "source": [
        "# Slicing: Access a sub-tensor\n",
        "print(\"Slicing - Sub-tensor:\")\n",
        "print(tensor[1:, :])"
      ],
      "metadata": {
        "colab": {
          "base_uri": "https://localhost:8080/"
        },
        "id": "e52RCM9sboKr",
        "outputId": "b74769a9-f90d-4320-d13b-da44c8dc98d1"
      },
      "execution_count": 15,
      "outputs": [
        {
          "output_type": "stream",
          "name": "stdout",
          "text": [
            "Slicing - Sub-tensor:\n",
            "tensor([[4, 5, 6],\n",
            "        [7, 8, 9]])\n"
          ]
        }
      ]
    },
    {
      "cell_type": "code",
      "source": [
        "# Fancy indexing: Access specific elements using a list of indices\n",
        "indices = torch.tensor([0, 2])\n",
        "print(\"Fancy indexing - Specific elements:\")\n",
        "print(tensor[:, indices])"
      ],
      "metadata": {
        "colab": {
          "base_uri": "https://localhost:8080/"
        },
        "id": "dCtQVhc8bqGx",
        "outputId": "b206f1a3-f60a-4818-a722-349cfcca328e"
      },
      "execution_count": 16,
      "outputs": [
        {
          "output_type": "stream",
          "name": "stdout",
          "text": [
            "Fancy indexing - Specific elements:\n",
            "tensor([[1, 3],\n",
            "        [4, 6],\n",
            "        [7, 9]])\n"
          ]
        }
      ]
    },
    {
      "cell_type": "code",
      "source": [
        "# Masked indexing: Access elements based on a boolean mask\n",
        "mask = tensor > 5\n",
        "print(\"Masked indexing - Elements satisfying condition:\")\n",
        "print(tensor[mask])"
      ],
      "metadata": {
        "colab": {
          "base_uri": "https://localhost:8080/"
        },
        "id": "hQxPgFUUbsON",
        "outputId": "4b68715f-89e8-4a03-d126-97521fa71392"
      },
      "execution_count": 17,
      "outputs": [
        {
          "output_type": "stream",
          "name": "stdout",
          "text": [
            "Masked indexing - Elements satisfying condition:\n",
            "tensor([6, 7, 8, 9])\n"
          ]
        }
      ]
    },
    {
      "cell_type": "code",
      "source": [
        "# reshape method\n",
        "tensor1 = torch.tensor(list(range(36)))"
      ],
      "metadata": {
        "id": "mx9skAcPbuHT"
      },
      "execution_count": 18,
      "outputs": []
    },
    {
      "cell_type": "code",
      "source": [
        "tensor1.reshape(-1,6)"
      ],
      "metadata": {
        "colab": {
          "base_uri": "https://localhost:8080/"
        },
        "id": "Y2Wx2XW-bwOD",
        "outputId": "00b65ed4-c288-4dbc-85be-c13a282019df"
      },
      "execution_count": 19,
      "outputs": [
        {
          "output_type": "execute_result",
          "data": {
            "text/plain": [
              "tensor([[ 0,  1,  2,  3,  4,  5],\n",
              "        [ 6,  7,  8,  9, 10, 11],\n",
              "        [12, 13, 14, 15, 16, 17],\n",
              "        [18, 19, 20, 21, 22, 23],\n",
              "        [24, 25, 26, 27, 28, 29],\n",
              "        [30, 31, 32, 33, 34, 35]])"
            ]
          },
          "metadata": {},
          "execution_count": 19
        }
      ]
    },
    {
      "cell_type": "markdown",
      "source": [
        "PyTorch tensors perform arithmetic operations intuitively. Tensors of similar shapes may be added, multiplied, etc. It also support Broadcasting similar to numpy arrays."
      ],
      "metadata": {
        "id": "BBxLm5i3b012"
      }
    },
    {
      "cell_type": "code",
      "source": [
        "ones = torch.ones(2, 3)\n",
        "print(ones)\n",
        "\n",
        "twos = torch.ones(2, 3) * 2 # every element is multiplied by 2\n",
        "print(twos)\n",
        "\n",
        "threes = ones + twos       # additon allowed because shapes are similar\n",
        "print(threes)              # tensors are added element-wise\n",
        "print(threes.shape)        # this has the same dimensions as input tensors"
      ],
      "metadata": {
        "colab": {
          "base_uri": "https://localhost:8080/"
        },
        "id": "8bfrIIFLbyFF",
        "outputId": "b950a0a9-16d5-42fd-b606-49c1cc388071"
      },
      "execution_count": 20,
      "outputs": [
        {
          "output_type": "stream",
          "name": "stdout",
          "text": [
            "tensor([[1., 1., 1.],\n",
            "        [1., 1., 1.]])\n",
            "tensor([[2., 2., 2.],\n",
            "        [2., 2., 2.]])\n",
            "tensor([[3., 3., 3.],\n",
            "        [3., 3., 3.]])\n",
            "torch.Size([2, 3])\n"
          ]
        }
      ]
    },
    {
      "cell_type": "code",
      "source": [
        "# Supports Broadcasting\n",
        "\n",
        "a1 = torch.tensor([[1, 2, 3],\n",
        "                  [4, 5, 6]])\n",
        "print(f\"a1 shape :{a1.shape}\")\n",
        "\n",
        "b1 = torch.tensor([[10],\n",
        "                  [20]])\n",
        "print(f\"b1 shape :{b1.shape}\")\n",
        "\n",
        "# Perform element-wise addition (broadcasting)\n",
        "c1 = a1 + b1\n",
        "\n",
        "print(c1)"
      ],
      "metadata": {
        "colab": {
          "base_uri": "https://localhost:8080/"
        },
        "id": "D5k4hFbpb37d",
        "outputId": "adbdf352-033d-48ec-dc37-319e3e9e1f2b"
      },
      "execution_count": 21,
      "outputs": [
        {
          "output_type": "stream",
          "name": "stdout",
          "text": [
            "a1 shape :torch.Size([2, 3])\n",
            "b1 shape :torch.Size([2, 1])\n",
            "tensor([[11, 12, 13],\n",
            "        [24, 25, 26]])\n"
          ]
        }
      ]
    },
    {
      "cell_type": "code",
      "source": [
        "# Due to inappropriate tensor shapes\n",
        "r1 = torch.rand(3,3,1)\n",
        "r2 = torch.rand(3,3,2)\n",
        "r3 = r1 + r2\n",
        "print(r3)"
      ],
      "metadata": {
        "colab": {
          "base_uri": "https://localhost:8080/"
        },
        "id": "TKQizZJ7b6OD",
        "outputId": "aed0d293-fd90-4326-9974-9167ac3b49b4"
      },
      "execution_count": 22,
      "outputs": [
        {
          "output_type": "stream",
          "name": "stdout",
          "text": [
            "tensor([[[0.3344, 0.4928],\n",
            "         [1.2548, 1.3723],\n",
            "         [0.8951, 1.3342]],\n",
            "\n",
            "        [[1.4100, 1.0682],\n",
            "         [0.7675, 0.9857],\n",
            "         [0.7231, 0.7786]],\n",
            "\n",
            "        [[1.1626, 1.4367],\n",
            "         [1.2964, 0.5359],\n",
            "         [1.4926, 1.3223]]])\n"
          ]
        }
      ]
    },
    {
      "cell_type": "markdown",
      "source": [
        "Here's a small sample of the mathematical operations available:"
      ],
      "metadata": {
        "id": "61ON8nPsb-ie"
      }
    },
    {
      "cell_type": "code",
      "source": [
        "torch.manual_seed(2)\n",
        "r = torch.rand(2, 2) - 0.5 * 2 # values between -1 and 1\n",
        "print('A random matrix, r:')\n",
        "print(r)"
      ],
      "metadata": {
        "colab": {
          "base_uri": "https://localhost:8080/"
        },
        "id": "14N6WC8Xb8Mk",
        "outputId": "c35d0a63-e779-42e4-d791-982c75607a1b"
      },
      "execution_count": 23,
      "outputs": [
        {
          "output_type": "stream",
          "name": "stdout",
          "text": [
            "A random matrix, r:\n",
            "tensor([[-0.3853, -0.6190],\n",
            "        [-0.3629, -0.5255]])\n"
          ]
        }
      ]
    },
    {
      "cell_type": "code",
      "source": [
        "# Common mathematical operations are supported:\n",
        "print('\\nAbsolute value of r:')\n",
        "print(torch.abs(r))"
      ],
      "metadata": {
        "colab": {
          "base_uri": "https://localhost:8080/"
        },
        "id": "n5RX-EFCcArC",
        "outputId": "142f2820-30b5-4aa4-b45f-7e48703d261e"
      },
      "execution_count": 24,
      "outputs": [
        {
          "output_type": "stream",
          "name": "stdout",
          "text": [
            "\n",
            "Absolute value of r:\n",
            "tensor([[0.3853, 0.6190],\n",
            "        [0.3629, 0.5255]])\n"
          ]
        }
      ]
    },
    {
      "cell_type": "code",
      "source": [
        "# ...as are trigonometric functions:\n",
        "print('\\nInverse sine of r:')\n",
        "print(torch.asin(r))"
      ],
      "metadata": {
        "colab": {
          "base_uri": "https://localhost:8080/"
        },
        "id": "4UvuhPvxcDez",
        "outputId": "6e30ed40-ddbf-4798-9271-023206035654"
      },
      "execution_count": 25,
      "outputs": [
        {
          "output_type": "stream",
          "name": "stdout",
          "text": [
            "\n",
            "Inverse sine of r:\n",
            "tensor([[-0.3955, -0.6675],\n",
            "        [-0.3714, -0.5533]])\n"
          ]
        }
      ]
    },
    {
      "cell_type": "code",
      "source": [
        "# ...and linear algebra operations like determinant and singular value decomposition\n",
        "print('\\nDeterminant of r:')\n",
        "print(torch.det(r))\n",
        "print('\\nSingular value decomposition of r:')\n",
        "print(torch.svd(r))"
      ],
      "metadata": {
        "colab": {
          "base_uri": "https://localhost:8080/"
        },
        "id": "Sv8IuRKicFwv",
        "outputId": "f42e7bf4-76c5-4e7e-b6a9-eeab8b2d5f51"
      },
      "execution_count": 26,
      "outputs": [
        {
          "output_type": "stream",
          "name": "stdout",
          "text": [
            "\n",
            "Determinant of r:\n",
            "tensor(-0.0221)\n",
            "\n",
            "Singular value decomposition of r:\n",
            "torch.return_types.svd(\n",
            "U=tensor([[-0.7523, -0.6588],\n",
            "        [-0.6588,  0.7523]]),\n",
            "S=tensor([0.9690, 0.0228]),\n",
            "V=tensor([[ 0.5459, -0.8379],\n",
            "        [ 0.8379,  0.5459]]))\n"
          ]
        }
      ]
    },
    {
      "cell_type": "code",
      "source": [
        "# ...and statistical and aggregate operations:\n",
        "print('\\nAverage and standard deviation of r:')\n",
        "print(torch.std_mean(r))\n",
        "print('\\nMaximum value of r:')\n",
        "print(torch.max(r))"
      ],
      "metadata": {
        "colab": {
          "base_uri": "https://localhost:8080/"
        },
        "id": "_VioIkKHcHeO",
        "outputId": "c00bacef-be05-4383-9793-212d0b2f6c8f"
      },
      "execution_count": 27,
      "outputs": [
        {
          "output_type": "stream",
          "name": "stdout",
          "text": [
            "\n",
            "Average and standard deviation of r:\n",
            "(tensor(0.1210), tensor(-0.4732))\n",
            "\n",
            "Maximum value of r:\n",
            "tensor(-0.3629)\n"
          ]
        }
      ]
    },
    {
      "cell_type": "code",
      "source": [],
      "metadata": {
        "id": "rw0ouN6UcJwl"
      },
      "execution_count": null,
      "outputs": []
    }
  ]
}