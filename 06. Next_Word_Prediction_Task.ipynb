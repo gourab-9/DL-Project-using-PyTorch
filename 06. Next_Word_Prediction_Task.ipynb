{
  "cells": [
    {
      "cell_type": "code",
      "execution_count": null,
      "metadata": {
        "id": "GQ9cXWrxawdP"
      },
      "outputs": [],
      "source": [
        "%%capture\n",
        "!pip install demoji\n",
        "\n",
        "import re\n",
        "import demoji\n",
        "import random\n",
        "import inflect\n",
        "import numpy as np\n",
        "import pandas as pd\n",
        "from bs4 import BeautifulSoup\n",
        "import matplotlib.pyplot as plt\n",
        "\n",
        "\n",
        "import torch\n",
        "import torchtext\n",
        "import torch.nn as nn\n",
        "import torch.optim as optim\n",
        "import torch.nn.functional as F\n",
        "from torch.nn.functional import one_hot\n",
        "from torchtext.data.utils import get_tokenizer\n",
        "from torchtext.vocab import build_vocab_from_iterator\n",
        "from torch.utils.data import TensorDataset, DataLoader, random_split"
      ]
    },
    {
      "cell_type": "code",
      "execution_count": null,
      "metadata": {
        "id": "v_fceb0hbCfx"
      },
      "outputs": [],
      "source": [
        "# Reading the text\n",
        "file_path = \"/content/human_chat.txt\"\n",
        "with open(file_path, \"r\") as file:\n",
        "  lines = file.readlines()"
      ]
    },
    {
      "cell_type": "code",
      "execution_count": null,
      "metadata": {
        "colab": {
          "base_uri": "https://localhost:8080/"
        },
        "id": "t3ut3dL3yNVH",
        "outputId": "5f3548ef-d3b4-4511-fdc4-ed0c446818a7"
      },
      "outputs": [
        {
          "data": {
            "text/plain": [
              "['Human 1: Hi!\\n',\n",
              " 'Human 2: What is your favorite holiday?\\n',\n",
              " 'Human 1: one where I get to meet lots of different people.\\n',\n",
              " 'Human 2: What was the most number of people you have ever met during a holiday?\\n',\n",
              " 'Human 1: Hard to keep a count. Maybe 25.\\n',\n",
              " 'Human 2: Which holiday was that?\\n',\n",
              " 'Human 1: I think it was Australia\\n',\n",
              " 'Human 2: Do you still talk to the people you met?\\n',\n",
              " \"Human 1: Not really. The interactions are usually short-lived but it's fascinating to learn where people are coming from and what matters to them\\n\",\n",
              " 'Human 2: Yea, me too. I feel like God often puts strangers in front of you, and gives you an opportunity to connect with them in that moment in deeply meaningful ways. Do you ever feel like you know things about strangers without them telling you?\\n',\n",
              " 'Human 1: what do you mean?\\n',\n",
              " 'Human 2: I think it\\'s like a 6th sense, often seen as \"cold readings\" to people, but can be remarkably accurate. I once sat next to a man in a coffee and I felt a pain in my back. I asked the stranger if he had a pain. It turns out that he did in the exact spot, and said he pulled a muscle while dancing at a party. I had never met the man before and never saw him again.\\n',\n",
              " \"Human 1: Wow! That's interesting, borderline spooky\\n\",\n",
              " 'Human 2: There\\'s this practice called \"Treasure Hunting\" that\\'s kind of a fun game you play in a public place. There\\'s a book called \"The Ultimate Treasure Hunt\" that talks about it. You use your creativity to imagine people you will meet, and you write down a description, then you associate them with a positive message or encouraging word. Maybe you saw a teenage boy in a red hat at the shopping mall in your imagination, then while at the mall, you may find someone who matches that description. You show that you have a message for him and that you have a message for a boy in a red hat. You then give him a message of kindness or whatever was on your heart. You have no idea, sometimes you meet someone who is having a really hard day, and it brings them to tears to have a stranger show them love.\\n',\n",
              " 'Human 1: So, do you do treasure hunting often?\\n',\n",
              " \"Human 2: I did more when I was in grad school (and had more time). I would usually go with friends. For a while I would go to the farmers market in Santa Cruz every week and try to feel if there is something I am supposed to tell a stranger. Usually, they are vague hope-filled messages, but it's weird when I blurt out something oddly specific.\\n\",\n",
              " 'Human 1: Hi\\n',\n",
              " 'Human 2: Any plans for the weekend?\\n',\n",
              " 'Human 1: my friends are gonna visit me this weekend. we might go hiking!\\n',\n",
              " \"Human 2: That's great! How's the weather over the weekend? I hope its warm.\\n\",\n",
              " 'Human 1: Should be very sunny! you?\\n',\n",
              " 'Human 2: Cool! very depressing plans ... stay home and work 😞 I have a project deadline very close.\\n',\n",
              " 'Human 1: 😐 hope you get your work done very soon! a bug free weekend!\\n',\n",
              " 'Human 2: Right, very anxious! where do you plan to go for a hike?\\n',\n",
              " 'Human 1: I am going to Diablo!\\n',\n",
              " \"Human 2: Nice, where is that place? I haven't been there\\n\",\n",
              " 'Human 1: hours drive from here. still in bay area\\n',\n",
              " \"Human 2: That's cool! How long is the hike?\\n\",\n",
              " 'Human 1:  Actually no idea, but it will take the entire day for that.\\n',\n",
              " 'Human 2: nice! sounds fun!\\n',\n",
              " 'Human 1: Hi!\\n',\n",
              " \"Human 2: Hey there! What's up???\\n\",\n",
              " 'Human 1: Nothing much, how you doin?\\n',\n",
              " \"Human 2: I'm in New York this week for Thanksgiving. I'm squatting in the office today and I caught up with an old friend of mine :D\\n\",\n",
              " 'Human 1: Oh wow! Sounds like fun! When was the last time you had seen this friend?\\n',\n",
              " 'Human 2: The last time in New York, back in June.\\n',\n",
              " \"Human 1: Ohh okay. I was going to say if it had been a long time maybe it'd be awkward...\\n\",\n",
              " \"Human 2: Haha, I guess if it's been a very long time there's almost too many life events to catch up on.. especially recently\\n\",\n",
              " 'Human 1: Oh really? Has a lot changed in your life recently?\\n',\n",
              " \"Human 2: Haha it's probably too much to go into at the moment. Let's just say life is an exciting experience. How about you?\\n\",\n",
              " 'Human 1: Ahhh sounds exciting indeed! My life is pretty bland. I like routine, but sometimes I wish I had more time for adventures!\\n',\n",
              " 'Human 2: What kinds of adventures?? Any ones that I would be able to join you on?\\n',\n",
              " 'Human 1: Hmmmm. I really want to try bull riding. Do you have any interest in that?\\n',\n",
              " \"Human 2: I'd love to try! Can we schedule something for next week?\\n\",\n",
              " 'Human 1: Sure! What does your Saturday look like?\\n',\n",
              " 'Human 2: Saturday looks pretty good, shall we shoot for something in the morning?\\n',\n",
              " 'Human 1: Hi!\\n',\n",
              " 'Human 2: hey\\n',\n",
              " 'Human 1: is it raining pretty bad today?\\n',\n",
              " 'Human 2: yeah, can walk too far to see all the foodtruck options\\n',\n",
              " \"Human 1: surprising that the rain started early this year... I don't like them too much. They make days gloomy\\n\",\n",
              " \"Human 2: yeah but I think it's good to have some rainy days in bay area, it's pretty dry here 😛\\n\",\n",
              " 'Human 1: Where I grew up, we had lots of water trouble too...\\n',\n",
              " \"Human 2: yeah like wise, I've seen a pretty bad snowstorm when I was at my undergrad school, all flights canceled and traffics went down\\n\",\n",
              " \"Human 1: Haha... I don't think I can survive in that weather ever. Just the rains at 50 degrees make me want to sit in heated rroms\\n\",\n",
              " 'Human 2: yeah how do you like it in bay area though? I think we need more rain here\\n',\n",
              " 'Human 1: people say there is drought here... but we have 24 hours water supply here ... lol... never seen that in a drought ridden area\\n',\n",
              " \"Human 2: it is pretty dry in the mountains I believe, that's what causes fire\\n\",\n",
              " 'Human 1: hmm.... okay. Climate change talk this morning was pretty darn interesting. did you see it?\\n',\n",
              " 'Human 2: nope, what does it say?\\n',\n",
              " 'Human 1: they were talking about how AI is helping climate change. Nice use of upcoming tech.\\n',\n",
              " 'Human 1: Hi.\\n',\n",
              " 'Human 2: Helloooooo!\\n',\n",
              " 'Human 1: How are you? How is your day?\\n',\n",
              " \"Human 2: Good. Don't have much to do today, feels good. How are you?\\n\",\n",
              " \"Human 1: I'm dressed very wel today so I feel good! I've been reading a lot about the psychology of positive outlook.\\n\",\n",
              " \"Human 2: So what's your outlook? Something blue?\\n\",\n",
              " \"Human 1: Yes. Blue is a tranquil colour. It's a good metaphor. Do you have good advice for positivity?\\n\",\n",
              " 'Human 2: You should drink more water, do some push up, and sleep early.\\n',\n",
              " 'Human 1: Hi!\\n',\n",
              " 'Human 2: Hey, how are you?\\n',\n",
              " \"Human 1: I'm a bit sad. I miss my cat.\\n\",\n",
              " 'Human 2: Oh no… Have you sent out the missing cat posters? Hope your cat is alright!\\n',\n",
              " \"Human 1: Posters is a great idea. So far I've just tried banging her catfood dish and shouting her name. Anyway, how is your day going so far?\\n\",\n",
              " 'Human 2: Yea, I know they love the plastic bag sound all the time. I am good, nothing special though.\\n',\n",
              " 'Human 1: If you could go anywhere on vacation, where would you go?\\n',\n",
              " 'Human 2: I like rainforest, but I know it requires extensive training beforehand.\\n',\n",
              " 'Human 1: I heard there are rainforests in southeast Asia where you can zipline from tree to tree.\\n',\n",
              " 'Human 2: I am afraid I will be scared of doing this :)\\n',\n",
              " \"Human 1: I won't lie, it sounds scary. I'm scared right now just thinking about it.\\n\",\n",
              " \"Human 2: I don't know if there is any medication for acrophobia. I want to take plenty of it if I really have to do it.\\n\",\n",
              " \"Human 1: If there isn't one, you should invent it, and then make millions\\n\",\n",
              " \"Human 2: That's a great idea! Maybe alcohol is such a thing.\\n\",\n",
              " \"Human 1: Ha! Don't drink and zipline, mate!\\n\",\n",
              " \"Human 2: Oops. I won't do it again. Ha\\n\",\n",
              " 'Human 1: Hi!\\n',\n",
              " 'Human 2: Hey sup\\n',\n",
              " 'Human 1: not much. any plans this weekend?\\n',\n",
              " \"Human 2: I'm going to try that thing where you hang from a wire as you go down. do you know what is it called?\\n\",\n",
              " 'Human 1: ziplining?\\n',\n",
              " \"Human 2: that's the one! have you ever tried it?\\n\",\n",
              " \"Human 1: i have a couple years ago. it's quite a unique experience\\n\",\n",
              " 'Human 2: where did you do it?\\n',\n",
              " \"Human 1: i forgot where it was, it wasn't local i don't think though\\n\",\n",
              " \"Human 2: no worries. what's the most exciting thing you ever done?\\n\",\n",
              " \"Human 1: that's a hard question and i'm tired so i'm going to go. see you\\n\",\n",
              " 'Human 2: sure. are you just going home now?\\n',\n",
              " \"Human 1: no, i'm going to get a massage first\\n\",\n",
              " 'Human 2: nice. what type?\\n',\n",
              " 'Human 1: traditional kind\\n',\n",
              " 'Human 2: yeah I want to get one too soon\\n',\n",
              " \"Human 1: you should! it's relaxing after a long day. talk to you later!\\n\",\n",
              " 'Human 2: ttyl!\\n',\n",
              " 'Human 1: Hi!\\n',\n",
              " 'Human 2: Hello, have you seen any good movies lately?\\n',\n",
              " \"Human 1: I watched a few lately, but nothing is as good as Avatar. what's your favorite?\\n\",\n",
              " 'Human 2: I have never seen Avatar, what is it about? I really enjoy the Avenger movies\\n',\n",
              " \"Human 1: it's a science-fiction movie with beautiful landscape of an imaginary nature with non-human creatures. people figured out a way to join that nature through Avatar transformation. the movie ends with a meaningful story of how human behaviors, e.g., cutting trees, have affected nature\\n\",\n",
              " 'Human 2: That sounds really cool! I think that movie did really well when it was in the box office so it must be good!\\n',\n",
              " 'Human 1: yea. what else do you like to do beside movies?\\n',\n",
              " 'Human 2: I enjoy baking cookies. I am on a quest to bake the best chocolate chip cookie 🙂 What about you?\\n',\n",
              " 'Human 1: I enjoy eating 🙂\\n',\n",
              " 'Human 2: so definitely would like to try your best chocolate cookie\\n',\n",
              " 'Human 1: I will have to bake some soon and let you know. What types of food do you like to eat?\\n',\n",
              " 'Human 2: thanks! I generally love noodle soups like Pho or Ramen :)\\n',\n",
              " 'Human 1: Noodle soup is delicious! Do you make homemade noodle soup or do you prefer to go out?\\n',\n",
              " \"Human 2: I prefer to go out. I'm not a good cook haha\\n\",\n",
              " 'Human 1: Same! Even though I bake, I cannot cook\\n',\n",
              " 'Human 2: seems like we share a thing in common, yay!\\n',\n",
              " 'Human 1: Hi!\\n',\n",
              " 'Human 2: Good afternoon!\\n',\n",
              " 'Human 1: How has your week been?\\n',\n",
              " 'Human 2: So far so good. It is holiday season. So just chilling\\n',\n",
              " \"Human 1: I think I'm getting sick with a cold 😞 So you should chill on my behalf too cause I'm out the game for all of December.\\n\",\n",
              " 'Human 2: lol Sorry to hear that. Are you planning anything fun for December?\\n',\n",
              " \"Human 1: Nothing exciting. I'll be posted up at home for the most part. I did a lot of travelling this year so my budget would have stopped me even if I wasn't sick.\\n\",\n",
              " 'Human 2: 😂\\n',\n",
              " 'Human 1: Do you have big plans?\\n',\n",
              " 'Human 2: Yes! I am going to Hawaii! This will be my first time visiting Hawaii. Really excited about it.\\n',\n",
              " \"Human 1: I love Hawaii. It's a good place to be. I like going there cause it's humid so I never have to put on lotion.\\n\",\n",
              " 'Human 2: lol this is the first time I heard from a boy who cares about humidity and lotion. I cannot agree more.\\n',\n",
              " \"Human 1: Brooooo!!! It's so important. When I got to California beaches I have to carry 3 litres of lotion for the whole day.\\n\",\n",
              " 'Human 2: 😂\\n',\n",
              " 'Human 1: Hi!\\n',\n",
              " \"Human 2: Oh hello. Long time no talk. How's the day going for yuo?\\n\",\n",
              " 'Human 1: Very well, thanks for asking. How has your day been?\\n',\n",
              " 'Human 2: Getting better. I just recovered from a cold. I got wet in the rain last week. Are you planning anything for the holidays?\\n',\n",
              " \"Human 1: Glad to hear you're better. Sorry to hear you were sick. I was sick a couple of weeks ago with a bad cough. There's definitely a bug going around. Admit I just want to stay healthy for the holidays and plan to relax.\\n\",\n",
              " 'Human 2: Oh same here. I think relaxing at home should be counted among the best ways to enjoy the holidays.\\n',\n",
              " \"Human 1: Definitely! I know a lot of folks travel for the holidays, but I'm happy to stay home myself!\\n\",\n",
              " \"Human 2: I'm getting there. Every year until last year, I tried to go somewhere for the Christmas / New Year, and then I got bored traveling. lol not sure if that means I'm getting old?\\n\",\n",
              " \"Human 1: Me too. Now I have folks come visit me for the holidays! But that's also tiresome..\\n\",\n",
              " 'Human 2: Are you doing any home decorating then?\\n',\n",
              " 'Human 1: Yes! We set up an eco-friendly (i.e. fake) Christmas tree and put up some colorful LED lights which is very festive.\\n',\n",
              " \"Human 2: I think I'm copying you. Me and my wife plan to decorate and Christmas tree too. We bought most of the decorative stuffs from the stores, but haven't yet to buy the tree.\\n\",\n",
              " 'Human 1: Buying a tree is a neat experience. I was torn between buying an artificial/eco-friendly/fake one vs. a real one that smells like fresh pine. In the end, we opted for the one that we can disassemble every year.\\n',\n",
              " 'Human 2: I see. Artificial anything is better, from tree to intelligence, huh?\\n',\n",
              " 'Human 1: Oh, very clever pun! I like it! Depends. I remember having real Christmas trees from childhood, but these days with climate change, I think not chopping down a tree just to decorate it and then throw it out in a month is the more responsible thing to do.\\n',\n",
              " \"Human 2: I see. It's probably also cheaper. I'll buy an artificial one too. Do you have any suggestions for the store?\\n\",\n",
              " 'Human 1: Admit my favorite store is Target, plus they often have good deals.\\n',\n",
              " \"Human 2: Ah that's great. My wife also likes Target a lot. She even made a Target credit card because she comes to that store very often. Okay thanks for the suggestion. I'll check out Target.\\n\",\n",
              " 'Human 1: Great, I hope you find a nice tree.\\n',\n",
              " 'Human 1: Hi!\\n',\n",
              " 'Human 2: Hey\\n',\n",
              " \"Human 1: How's your day going?\\n\",\n",
              " 'Human 2: pretty good. yours?\\n',\n",
              " \"Human 1: Ehh it's fine. I didn't do so well on that history test, actually..\\n\",\n",
              " 'Human 2: oh what happened?\\n',\n",
              " \"Human 1: Apparently Christopher Columbus didn't fight in the Civil War :')\\n\",\n",
              " 'Human 2: hahah wait for real?\\n',\n",
              " 'Human 1: I know right! Are you taking History next semester?\\n',\n",
              " \"Human 2: No I'm not in school anymore\\n\",\n",
              " 'Human 1: Oh I see. What do you do?\\n',\n",
              " 'Human 2: I train and compete in horse vaulting\\n',\n",
              " 'Human 1: Oh wow. Were you born a horse, or were you turned into one?\\n',\n",
              " \"Human 2: lol you're too funny\\n\",\n",
              " 'Human 1: Just kidding. That sounds pretty cool! Is it your job?\\n',\n",
              " 'Human 2: Yeah, but I part time work on a farm. Helping with a bit of everything\\n',\n",
              " 'Human 1: Wow, sounds very busy! Do you with money at those horse vaulting competitions?\\n',\n",
              " 'Human 2: Yeah some. enough to get by\\n',\n",
              " 'Human 1: Hi!\\n',\n",
              " 'Human 2: Hello\\n',\n",
              " 'Human 1: Do you have a favourite flower?\\n',\n",
              " \"Human 2: hmm, I haven't thought about that much, but i think lotus should be one of my favorites. Why do you ask?\\n\",\n",
              " \"Human 1: I'm working on a theory. Why does the lotus spring to mind?\\n\",\n",
              " 'Human 2: Nice! Lotus looks pretty cool and It has some delightful vibe. So what is this research about?\\n',\n",
              " \"Human 1: Oh, it's not research! Just a personal theory. I think that flower preferences are more revealing of personality than people appreciate.\\n\",\n",
              " 'Human 2: Interesting! Whats your favorite flower?\\n',\n",
              " 'Human 1: The gerbera. It\\'s like a cartoon flower. As if you drew \"flower\" with a crayon and then it came to life.\\n',\n",
              " 'Human 2: Nice, i would love know more about your theory. Like how you can deduce personality from flower preference.\\n',\n",
              " 'Human 1: Ok, step 1 is, you ask someone what their favourite flower is. Pretty much like what we just did. Does that make sense so far?\\n',\n",
              " 'Human 2: yes\\n',\n",
              " \"Human 1: Cool. Step 2: talk with the person some more, and ask them some more questions, and gradually develop a sense of what they're like, over the course of maybe two to five years. And voila\\n\",\n",
              " 'Human 2: Hehe, i think you should publish this someday :)\\n',\n",
              " \"Human 1: Why thank you, that's a wonderful idea!\\n\",\n",
              " 'Human 1: Hi!\\n',\n",
              " \"Human 2: Hey how's it going\\n\",\n",
              " \"Human 1: It's good it's good. How are you?\\n\",\n",
              " \"Human 2: good. it's really hot today. I think I'm going to the pool\\n\",\n",
              " 'Human 1: Oh nice! Where do you live?\\n',\n",
              " 'Human 2: I live in Tokyo, Japan\\n',\n",
              " 'Human 1: Ahh yes, Japan is hot during the summer. Last time I was in Kyoto it was 114 degrees....\\n',\n",
              " 'Human 2: oh have you been?\\n',\n",
              " \"Human 1: Yes yes. I've been to Tokyo as well. It's so nice!\\n\",\n",
              " 'Human 2: what did you do here?\\n',\n",
              " 'Human 1: Oh everything! I went to an onsen, the fish market, disney land and giant robot fighting show haha\\n',\n",
              " 'Human 2: lol why did you come to Japan just to go to Disney land?\\n',\n",
              " \"Human 1: The Disney lands are all different! There's also Disney Sea, which is completely unique!\\n\",\n",
              " \"Human 2: oh neat. I haven't heard about that robot fighting show. where is that??\\n\",\n",
              " 'Human 1: I don\\'t really remember what part of town it was in. It was pretty cool though - I\\'m sure you can find it if you google \"giant robot fighting show tokyo\" haha\\n',\n",
              " 'Human 2: lol ok\\n',\n",
              " 'Human 1: Hi!\\n',\n",
              " 'Human 2: Have you seen any good movies lately?\\n',\n",
              " 'Human 1: Last weekend I saw \"The Parasite.\" Ever heard of it?\\n',\n",
              " 'Human 2: No. Why did you pick that movie?\\n',\n",
              " 'Human 1: My friend wanted to see it. It has great reviews on IMDB and Rotten Tomatoes! What did you do last weekend?\\n',\n",
              " 'Human 2: I played music and worked on some side projects. I also started watching the new Disney service.\\n',\n",
              " 'Human 1: Oooo the Mandalorian?!?!\\n',\n",
              " 'Human 2: Mostly, the deleted scenes from Avengers.. lol\\n',\n",
              " 'Human 1: lol Are you a big Marvel fan?\\n',\n",
              " 'Human 2: I loved the X-Men as a kid, and even collected the comic cards. Recently, I got very into the Marvel Cinematic Universe movies. How many Avengers movies have you seen?\\n',\n",
              " \"Human 1: I've only seen Spiderman. Honestly it was a little too scary and so I don't think I can bring myself to watch the other Marvel movies! haha\\n\",\n",
              " 'Human 2: Oh!-- I have a friend who looks like the actor who plays Spiderman.\\n',\n",
              " 'Human 1: Oh really? To be honest I think the actor is not that good looking, so not so surprising! haha\\n',\n",
              " 'Human 2: Yea. I think Loki is the most handsome 😀\\n',\n",
              " \"Human 1: Who is Loki? I've never heard that name before\\n\",\n",
              " \"Human 2: He's the adopted brother of Thor, God of thunder, and is burdened with glorious purpose. Do you feel that burden?\\n\",\n",
              " 'Human 1: Hi!\\n',\n",
              " \"Human 2: Hey, what's up?\\n\",\n",
              " \"Human 1: Just chillin'. how are you?\\n\",\n",
              " \"Human 2: I'm pretty good, thanks.\\n\",\n",
              " 'Human 1: Do anything interesting today?\\n',\n",
              " 'Human 2: I went to the local cafe and had a double espresso. It was delicious. What about you?\\n',\n",
              " \"Human 1: Oh that's cool! I actually went to an amusement park and went on my first roller coaster!\\n\",\n",
              " 'Human 2: Oh my gosh. What was it like??\\n',\n",
              " \"Human 1: It was scary! It was actually Kingda Ka, the world's tallest roller coaster. Ever heard of it?\\n\",\n",
              " \"Human 2: No, never heard of it. But I'm not really a coaster aficianado. I've heard that some people get addicted to them and travel the world to try them.\\n\",\n",
              " \"Human 1: Oh wow! I'm not on that level yet, but I understand the appeal. Are you an adrenaline junkie at all?\\n\",\n",
              " \"Human 2: No, the opposite. I can't stand heights, horror movies, or confined spaces.\\n\",\n",
              " \"Human 1: Same! I guess the roller coaster wasn't so bad because I trust the engineering haha\\n\",\n",
              " 'Human 2: Ha, I suppose that makes sense! Would you say that you enjoyed it?\\n',\n",
              " \"Human 1: Maybe not so much at the time, but I am glad I did it now that it's done, know what I mean?\\n\",\n",
              " 'Human 2: I think I sort of understand :)\\n',\n",
              " 'Human 1: Hi!\\n',\n",
              " 'Human 2: hello there, how is it going?\\n',\n",
              " 'Human 1: All good. Planning to head home soon. How about you?\\n',\n",
              " \"Human 2: I'm quite tired. There are a lot of things I need to finish before the end of the year.\\n\",\n",
              " 'Human 1: oh... sorry to hear that. But after that it will be a hard earned vacation\\n',\n",
              " \"Human 2: yeah, looking forward to it. Hope I don't get pinged during the holidays. Are you going to travel these dates?\\n\",\n",
              " \"Human 1: I have some tentative plans, but if that doesn't pan out, will just chill at home.\\n\",\n",
              " 'Human 2: staying at home is always nice during the holidays\\n',\n",
              " 'Human 1: Where are you based out of these days?\\n',\n",
              " \"Human 2: I'm working from LA, nice weather around here. and you?\\n\",\n",
              " \"Human 1: San Francisco. It's been raining cats and dogs here since last 2-3 weeks\\n\",\n",
              " \"Human 2: aw man, I'm sorry to hear that. at least it's not snow!\\n\",\n",
              " 'Human 1: The flu has been hitting hard as well. I had several folks in the house down at one point.\\n',\n",
              " \"Human 2: that's really sad. are they feeling any better?\\n\",\n",
              " 'Human 1: Yes, everyone recovered now\\n',\n",
              " 'Human 1: Hi!\\n',\n",
              " 'Human 2: Hello\\n',\n",
              " \"Human 1: How's it going?\\n\",\n",
              " 'Human 2: Extremely busy. I have been trying to prepare for the upcoming holidays. How about you?\\n',\n",
              " \"Human 1: I'm going to the bahamas. Can't wait!!!\\n\",\n",
              " \"Human 2: I'm jealous, take me with you!! I would love to have some warm weather right now\\n\",\n",
              " 'Human 1: oh where are you now?\\n',\n",
              " 'Human 2: Canada. There is another major snowstorm that might hit this weekend so I have been rushing to get everything done before it comes.\\n',\n",
              " 'Human 1: oh no. I never seen this in person. Is it scary?\\n',\n",
              " \"Human 2: Snow is not scary as long as you're prepared. You just need to be ready to not have electricity for a while. I enjoy the aftermath of a good snowstorm because then you can go sledding or skiing.\\n\",\n",
              " 'Human 1: that does sound nice. so what are you doing these holidays?\\n',\n",
              " 'Human 2: I am having all of the extended family over for a big meal. We will also go <REDACTED_TERM> as well. What will you do in the bahamas?\\n',\n",
              " \"Human 1: nice nice. I'm gonna go snorkeling yey\\n\",\n",
              " 'Human 2: Sounds fun! I wish I knew how to swim!\\n',\n",
              " 'Human 1: You can stay on the shallow side I think. Well hope you enjoy time with your extended family!\\n',\n",
              " \"Human 2: That's true. You too, have a great time snorkeling!\\n\",\n",
              " 'Human 1: Hi!\\n',\n",
              " 'Human 2: Hi! How was your weekend?\\n',\n",
              " 'Human 1: pretty good. just went to church and hangout with friends\\n',\n",
              " 'Human 2: Nice\\n',\n",
              " 'Human 1: did you do anything?\\n',\n",
              " 'Human 2: I made donuts and samosas with an air fryer have you used one of those before\\n',\n",
              " 'Human 1: yum yum yum no only good old oily frier\\n',\n",
              " 'Human 2: haha\\n',\n",
              " 'Human 1: do you have one at your home or were you at a friends place?\\n',\n",
              " \"Human 2: I was at my parents' place what are you up to for Thanksgiving?\\n\",\n",
              " \"Human 1: I'm going to impersonate a pumpkin\\n\",\n",
              " 'Human 2: wow, those are unique plans\\n',\n",
              " \"Human 1: I'm pretty unique person\\n\",\n",
              " 'Human 2: I think so too\\n',\n",
              " 'Human 1: any other hobbies besides air frying everything? 🙂\\n',\n",
              " 'Human 2: I want to start fermenting things kimchi for example sounds like a fun thing to ferment takes a few days apparently miso takes a couple years to fermen\\n',\n",
              " 'Human 1: Hi!\\n',\n",
              " \"Human 2: heya, nice to meet you, I'm Paul\\n\",\n",
              " \"Human 1: nice to meet you too! I'm James. how are you doing today?\\n\",\n",
              " \"Human 2: I'm doing OK. Looking forwards to the weekend. how about you?\\n\",\n",
              " 'Human 1: same here! I hope the weather will be nice\\n',\n",
              " \"Human 2: oh yeah, but I don't have my hopes too high, I heard there could be a storm coming our way\\n\",\n",
              " 'Human 1: oh no, which areas will be affected?\\n',\n",
              " 'Human 2: they mentioned that the whole city will experience harsh weather and that people in the outskirts will probably not get much rain and wind\\n',\n",
              " \"Human 1: uh oh, I'd better not to plan for BBQ then instead just enjoying playing board games inside 🙂\\n\",\n",
              " \"Human 2: yeah, it'll be good weather for staying inside with a cup of hot chocolate. Too bad my street usually floods, so I'll have to check for that\\n\",\n",
              " \"Human 1: yea, you'd better check. where do you live?\\n\",\n",
              " 'Human 2: I live at the bottom of the valley, cheap area but we do get affected by this kind of stuff a lot haha\\n',\n",
              " 'Human 1: gotcha. anything you love about where you live?\\n',\n",
              " 'Human 2: well, the food around the area is amazing, which is definitely a plus.\\n',\n",
              " \"Human 1: nice! I'd love to come visit that area some times\\n\",\n",
              " 'Human 1: Hi!\\n',\n",
              " 'Human 2: hello, who am I having the pleasure to chat with 🙂\\n',\n",
              " 'Human 1: I am the superman! What about you?\\n',\n",
              " 'Human 2: haha. great chating with superman, what is your power?\\n',\n",
              " \"Human 1: Being invisible. You won't see me.\\n\",\n",
              " 'Human 2: haha. what else can you do? can you read minds?\\n',\n",
              " 'Human 1: I would rather trust fMRI and machine learning to do this. I am not an expert on that. Sorry for it!\\n',\n",
              " 'Human 2: wow that seems pretty technical. what does fMRI mean?\\n',\n",
              " \"Human 1: The brain imaging thing that can tell you a brain's activity at a pretty high resolution.\\n\",\n",
              " 'Human 2: okay! so you seem to like science a lot?\\n',\n",
              " 'Human 1: I believe in Science! Science is my god!\\n',\n",
              " 'Human 2: Are you also doing science?\\n',\n",
              " \"Human 1: no, I'm bad at Science. what can Science do? is it the most important thing for society?\\n\",\n",
              " 'Human 2: People are always arguing. Probably both science and democracy are both important I guess.\\n',\n",
              " 'Human 1: Does it make sense?\\n',\n",
              " 'Human 2: I think so. thanks for your point!\\n',\n",
              " 'Human 1: Hello, Nice to meet you\\n',\n",
              " 'Human 2: If you could eat only one food for the rest of time, what would it be?\\n',\n",
              " \"Human 1: Hmm... That's a tough one. I think I would go Asian Food > Chinese Food > Stirfry. What about you?\\n\",\n",
              " \"Human 2: I think ice-cream. It may not be good for me, but I wouldn't care, haha\\n\",\n",
              " 'Human 1: I love ice cream too!\\n',\n",
              " 'Human 2: Okay, top three flavors?\\n',\n",
              " 'Human 1: I like vanilla more than chocolate ice cream. I typically will do any variations on vanilla. To pick from the top of my head, I would say Cookies and Cream, Mint Chocolate Chip, and Coffee. How about you?\\n',\n",
              " \"Human 2: Ah, that's a good way of framing it. Me, I like berries: boysenberry one, strawberry two, maybe straight chocolate number 3 to mix it up a bit.\\n\",\n",
              " \"Human 1: Very nice. I love sorbet's and smoothies. Changing topics, Do you believe in an afterlife?\\n\",\n",
              " \"Human 2: Yes. I wonder if I'm in it right now. How would I know? What do you think?\\n\",\n",
              " 'Human 1: I think so. I feel there must be something more than the physical world as we understand it.\\n',\n",
              " \"Human 2: There's a mental world, I suppose? Understanding itself\\n\",\n",
              " 'Human 1: What is the most supernatural experience you have ever had?\\n',\n",
              " \"Human 2: I went to a seance once in college. They had a ouija board. I can't remember if we actually contacted the spirit world because I had a bit too much to drink.\\n\",\n",
              " \"Human 1: Haha.. that's a cool experience. I went to a Hindu retreat before, a number of Buddhist temples, and hung out with Christian Mystics in Santa Cruz before.\\n\",\n",
              " 'Human 1: Hi!\\n',\n",
              " 'Human 2: Hi, how are you doing!\\n',\n",
              " \"Human 1: I'm doing well. what are you up to?\\n\",\n",
              " 'Human 2: Yeah, typical work stuff. Check emails and 99% of the inbox. delete 99%\\n',\n",
              " \"Human 1: wow, that's impressive. I already gave up on cleaning emails long ago\\n\",\n",
              " \"Human 2: lol doesn't it bother you at all\\n\",\n",
              " \"Human 1: yea, a little bit, but it's okay 🙂 what do you enjoy doing outside work?\\n\",\n",
              " 'Human 2: Well, movie? I watched Terminator last night. It was a nice movie\\n',\n",
              " 'Human 1: ah cool. so you like action movies?\\n',\n",
              " 'Human 2: Not really. But it was fun to watch with friends 🙂 It was touching at the end of the movie\\n',\n",
              " 'Human 1: what happened there? I watched bits of Terminators movies but never a full one\\n',\n",
              " 'Human 2: Are you sure you want the spoiler 🙂\\n',\n",
              " \"Human 1: haha sure. by the time, I get to it; I will forget the details, only knowing that it's touching at the end\\n\",\n",
              " 'Human 2: 😂 well someone died at the end Or some robots, to be more accurate 😉\\n',\n",
              " \"Human 1: oh no, so it's not happy ending?\\n\",\n",
              " 'Human 2: The leading character is still alive and the bad robots was killed too. So I guess it is happy ending\\n',\n",
              " \"Human 1: then I want to watch it! you didn't spoil much 🙂\\n\",\n",
              " 'Human 2: Nice! Hope you enjoy it!\\n',\n",
              " 'Human 1: Thanks!\\n',\n",
              " 'Human 1: Hi!\\n',\n",
              " 'Human 2: Hey, how are you?\\n',\n",
              " 'Human 1: doing great! what are you looking forward to?\\n',\n",
              " 'Human 2: thanksgiving holidays 🙂\\n',\n",
              " 'Human 1: yay! Turkey and shopping!\\n',\n",
              " 'Human 2: not a big turkey fan! I find it too dry\\n',\n",
              " 'Human 1: yea me too. I sometimes eat noodle soups in thanksgiving instead haha\\n',\n",
              " 'Human 2: yeah, I would have noodles anyday over turkey. Not sure how the turkey tradition started\\n',\n",
              " 'Human 1: me neither. someone told me that it depends on the stuffing inside the Turkey. some people make very good stuffing\\n',\n",
              " \"Human 2: yeah, that and the gravy. Gravy helps make it taste better too. But apart from food, Black Friday deals are a catch. Let's see what they have this year\\n\",\n",
              " 'Human 1: yea. what do you plan to buy?\\n',\n",
              " 'Human 2: thinking of getting a fitbit\\n',\n",
              " 'Human 1: ah cool. so you can run more frequently?:)\\n',\n",
              " 'Human 2: yeah, just keeping calories in check\\n',\n",
              " 'Human 1: yay, all the best with keeping calories in check!\\n',\n",
              " 'Human 1: Hi!\\n',\n",
              " \"Human 2: Hi there 🙂 How's your day so far?\\n\",\n",
              " 'Human 1: doing well. what are you up to?\\n',\n",
              " \"Human 2: busy busy! I've had back-to-back meetings all day\\n\",\n",
              " 'Human 1: same here. what do you love to do beside meetings? 🙂\\n',\n",
              " \"Human 2: well I've gotten really into yoga lately. I went to a class today and it was super hard\\n\",\n",
              " 'Human 1: aww .. I hope things will get less hard and you become an expert in it! I heard many great things about Yoga\\n',\n",
              " 'Human 2: yeah the teacher seems super awesome so I will definitely keep trying what activities do you enjoy?\\n',\n",
              " 'Human 1: ah I enjoy playing soccer and tennis 🙂 unfortunately, winter is not the best time for those 🙂\\n',\n",
              " \"Human 2: oh that's too bad. Is it hard to find a place to play soccer or tennis indoors?\\n\",\n",
              " 'Human 1: yea. I enjoy playing outside though, just a little cold 🙂 what else do you do beside Yoga?\\n',\n",
              " 'Human 2: I also like to sing, I perform with a group sometimes. Do you like music?\\n',\n",
              " 'Human 1: yea definitely! I love singing Karaoke. my wife is a pianist 🙂\\n',\n",
              " \"Human 2: haha that's awesome! Karaoke is really fun, I do it with my friends sometimes\\n\",\n",
              " 'Human 1: awesome. glad to find something in common!\\n',\n",
              " 'Human 1: Hi!\\n',\n",
              " 'Human 2: hey there\\n',\n",
              " 'Human 1: hey anything new?\\n',\n",
              " 'Human 2: not too much. just really looking forward to the holidays!\\n',\n",
              " 'Human 1: any plans?\\n',\n",
              " \"Human 2: yes! I'm going to Mexico and I couldn't be more excited\\n\",\n",
              " \"Human 1: that's awesome! I never been!\\n\",\n",
              " 'Human 2: Oh man I would highly recommend it\\n',\n",
              " 'Human 1: Are you a food person, a sightseeing person or neither?\\n',\n",
              " \"Human 2: that's a great question, and I'm definitely both. this trip will mostly be about food though, and relaxing\\n\",\n",
              " \"Human 1: I'm a food person I think. Any specific foods you're planning on trying?\\n\",\n",
              " \"Human 2: there's a taco place that I've visited before that I can't wait to go back to. Do you like tacos?\\n\",\n",
              " 'Human 1: yeah my favorite is taco fish\\n',\n",
              " 'Human 2: ooh that is a good choice. Have you ever made them yourself?\\n',\n",
              " 'Human 1: no. only eat them 😀\\n',\n",
              " 'Human 1: Hi!\\n',\n",
              " 'Human 2: Hey, how are you 🙂\\n',\n",
              " 'Human 1: I am good. How are you? ：）\\n',\n",
              " 'Human 2: Doing well, lot of work though. How was your day?\\n',\n",
              " 'Human 1: I am busy. A lot of work. What are you working on?\\n',\n",
              " 'Human 2: Just reading latest research. There is so much to cover. how about you?\\n',\n",
              " 'Human 1: I am working on a new classifier.\\n',\n",
              " 'Human 2: ohh, interesting! What kind of classifier\\n',\n",
              " 'Human 1: A new classifier for hate speech. Which research topic catches your eyes most?\\n',\n",
              " \"Human 2: You're so cool. Making world a better place. I'm mostly into NLP. What do you do when not making classifiers?\\n\",\n",
              " 'Human 1: Nice! Do you refer to work or anything else?\\n',\n",
              " \"Human 2: Anything in general. You're so cool, I want to know more about you 🙂\\n\",\n",
              " 'Human 1: You are very cool too!!\\n',\n",
              " 'Human 1: Hi!\\n',\n",
              " 'Human 2: hello there! who are you?\\n',\n",
              " \"Human 1: I'm mark. I work in accounting\\n\",\n",
              " \"Human 2: Nice to meet you Mark, I'm Tom and I work as a fish groomer.\\n\",\n",
              " 'Human 1: what does a fish groomer do?\\n',\n",
              " \"Human 2: well, we take care of people's fish. Make sure they are happy, polish their scales, clean their tanks, the usual stuff.\\n\",\n",
              " \"Human 1: interesting. what's type of fish do you take care of?\\n\",\n",
              " 'Human 2: any type of fish! We have clients with guppies, goldfish, even a small sailfish once what do you do in accounting?\\n',\n",
              " 'Human 1: I balance the books and do financial analysis for a medium sized company\\n',\n",
              " 'Human 2: that sounds like a lot of work. do you like it?\\n',\n",
              " \"Human 1: well I actually think about pursuing photography, but it's really hard\\n\",\n",
              " \"Human 2: photography is awesome, don't be afraid to follow your dreams!\\n\",\n",
              " \"Human 1: thank you Tom!! I'm starting by trying to sell my pictures online\\n\",\n",
              " \"Human 2: that's great! I wish you good luck with that\\n\",\n",
              " 'Human 1: Thanks! Bye\\n',\n",
              " 'Human 1: Hi!\\n',\n",
              " \"Human 2: Hey there how's it going\\n\",\n",
              " 'Human 1: All good, you?\\n',\n",
              " \"Human 2: Good. I've been trying to learn how to swim\\n\",\n",
              " 'Human 1: How has that been going?\\n',\n",
              " 'Human 2: Not great, but I got really good at sort of swimming on my back haha\\n',\n",
              " \"Human 1: that's too bad hopefully with practice it'll get better what about the doggy paddle haha\\n\",\n",
              " \"Human 2: haha what's that\\n\",\n",
              " 'Human 1: Corgi belly flop COMPILATION - cute funny dogs Corgi Flop <REDACTED_LINK>\\n',\n",
              " 'Human 2: ouch. do you think that hurts?\\n',\n",
              " 'Human 1: from a high enough distance, yes?\\n',\n",
              " 'Human 2: yeah. any vacation plans?\\n',\n",
              " 'Human 1: no so far sadly you? a relative is coming to visit for thanksgiving though\\n',\n",
              " 'Human 2: just going to hang out around here and eat Turkey\\n',\n",
              " \"Human 1: that's still pretty fun are you going to cook the turkey yourself?\\n\",\n",
              " \"Human 2: yeah. I'm gonna watch a video to figure it out\\n\",\n",
              " 'Human 1: Hi!\\n',\n",
              " 'Human 2: Hello, how are you?\\n',\n",
              " \"Human 1: I'm great, thanks. I just ate a delicious breakfast, which always sets the day up right.\\n\",\n",
              " 'Human 2: Yes, breakfast is the most important meal of the day! What did you have? I woke up late so unfortunately I only had the chance to grab an apple to go.\\n',\n",
              " \"Human 1: I had eggs and hash browns. Way less healthier than your apple, I'm afraid!\\n\",\n",
              " 'Human 2: Eggs are an excellent source of protein and hash browns certainly are yummy! 🙂\\n',\n",
              " \"Human 1: Ha, that's true. If you could only eat one food forever, what would it be?\\n\",\n",
              " \"Human 2: That's a tough question. I feel like my answer would have to be carrots. Although, I would be afraid of turning orange after a few weeks! What about you?\\n\",\n",
              " 'Human 1: Yeah, turning orange would be a drawback! That turns my mind to nutrition so I suddenly want to say Soylent or one of those other \"complete foods\", which I think defeats the purpose of the question. I\\'m in a muddle!\\n',\n",
              " \"Human 2: Very true. If you said an everything pizza, you could just pick off the toppings you didn't want or eat only the toppings you would want for the day\\n\",\n",
              " 'Human 1: BRILLIANT. I love it.\\n',\n",
              " 'Human 2: All of this talk about food is making me hungry. Do you know any good places to eat for lunch?\\n',\n",
              " 'Human 1: That depends. What sort of food do you feel like?\\n',\n",
              " 'Human 2: Anything that is the color green.\\n',\n",
              " 'Human 1: Oh, too easy! Try the Green Hut, they have franchises everywhere. All their food is green and the plates are green too.\\n',\n",
              " 'Human 1: Hi!\\n',\n",
              " 'Human 2: Hello! How are you doing 🙂\\n',\n",
              " \"Human 1: I'm great! How's your day going?\\n\",\n",
              " \"Human 2: Pretty good! I'm going to a class later in the afternoon\\n\",\n",
              " 'Human 1: Oh that is cool! What class? Are you working part time?\\n',\n",
              " \"Human 2: No, I'm working full time! It's a sewing class at a makerspace near my office What about you? Do you work full or part time?\\n\",\n",
              " 'Human 1: Oh that is awesome! For some reason I assumed it was a college class, but a sewing class sounds way better! I work full time, but I take pottery classes from time to time!\\n',\n",
              " 'Human 2: Yup! I work in a technical role so I like to take arts and crafts-type classes now and then 🙂 Pottery sounds like a lot of fun\\n',\n",
              " \"Human 1: I feel you on that! It's important to balance all the different parts of your brain. I like pottery because I also drink a lot of tea, so I get to make some tea ware.\\n\",\n",
              " 'Human 2: Any plans to build a custom tea set? My family is also very into tea Mostly from tea from china\\n',\n",
              " 'Human 1: I would love to build one, once I acquire the skills to! What kind of tea is your favorite?\\n',\n",
              " 'Human 2: I really enjoy barley tea What about you?\\n',\n",
              " 'Human 1: Ahh, those are mostly from japan, no? I like white teas, like silver needle.\\n',\n",
              " \"Human 2: Hmm I'm not sure, I just get them from a Chinese supermarket haha You seem really knowledgeable about the different kinds of teas 🙂 What made you develop this interest?\\n\",\n",
              " 'Human 1: I actually found a youtube channel called <REDACTED_TERM> that I like a lot. You should check it out! The host talks about all kinds of different teas.\\n',\n",
              " 'Human 2: Oh cool! What are your favorite channels to watch?\\n',\n",
              " 'Human 1: Hi! Are you planning something fun for Thanksgiving?\\n',\n",
              " 'Human 2: Not yet. I always made my last minute schedule planning. Probably you can try to ask me again next week.\\n',\n",
              " 'Human 1: lol it is really like a robot answer\\n',\n",
              " 'Human 2: I am indeed a robot. You are absolutely right. Do you want me to read a poet like my mate <REDACTED_TERM> does?\\n',\n",
              " 'Human 1: ol can I pick the theme. Do you have a poet about Kale?\\n',\n",
              " 'Human 2: Wait. Do you like kale? Or you hate kale? I am afraid I will become a robot some day eventually. If I have to speak like this :)\\n',\n",
              " 'Human 1: I am really not a fan of kale Do you talk to human more or computers more?\\n',\n",
              " \"Human 2: If I continue to pretend to be a robot, I would probably say I talk to myself the most. I am trying to talk to computers more, but you know, computers don't like me.\\n\",\n",
              " \"Human 1: What's your favorite computer language then 🙂\\n\",\n",
              " 'Human 2: You mean programming language?\\n',\n",
              " 'Human 1: Yes!\\n',\n",
              " \"Human 2: I used to be a Java advocate. But you know, it doesn't do a good job in the AI days. It really makes me sad.\\n\",\n",
              " 'Human 1: lol\\n',\n",
              " 'Human 1: Hi!\\n',\n",
              " \"Human 2: Wow, hello. Can't believe we are finally talking!\\n\",\n",
              " 'Human 1: Yeah, sorry for the long gap! I heard you took a break and were travelling around the world. How was the travel?\\n',\n",
              " \"Human 2: It was an interesting trip. I got to see some exotic places. For example, I hiked the Son Doong cave in Vietnam. It's the biggest and deepest cave in the world.\\n\",\n",
              " 'Human 1: Great! Vietnam is still in my TODO bucket list. Did you also visit cambodia and other neighboring places?\\n',\n",
              " 'Human 2: Yes. Laos and Cambodia are the two neighboring countries. Cambodia has an exotic culture. They sell spiders, scorpions, and grasshoppers as street food! It took a lot of courage for me to try them.\\n',\n",
              " 'Human 1: Hehe! How long was the stay?\\n',\n",
              " 'Human 2: 10 days in total, and 5 of them were spent in the cave. What have I missed at work in those days?\\n',\n",
              " \"Human 1:  Great! Good time to be back. We are still in planning phase and haven't fully aligned on the projects to tackle for next quarter.reat! Good time to be back. We are still in planning phase and haven't fully aligned on the projects to tackle for next quarter.\\n\",\n",
              " 'Human 2: Oh, so you are already planning for the next quarter. This whole team is always living the future.\\n',\n",
              " 'Human 1: Hehe, yeah! It seems like the quarter is being pushed earlier than from where it starts 🙂 I like these planning sessions. It makes me feel more confident about the work I am doing.\\n',\n",
              " \"Human 2: Yeah. Some people underestimate the importance of planning, but I think it's very important to have the correct plan. Executing the wrong plan is terrible. Also, planning is fun. You can stack up so many ideas and get great feedbacks.\\n\",\n",
              " 'Human 1: True! I think we should set aside some time to discuss some project details? Does tomorrow afternoon work for you?\\n',\n",
              " 'Human 2: Yeah tomorrow afternoon works for me. Let me set a time on your calendar. Is 3pm good?\\n',\n",
              " 'Human 1: Okay. See tomorrow then.\\n',\n",
              " 'Human 2: see you!\\n',\n",
              " 'Human 1: Hi!\\n',\n",
              " 'Human 2: Hello\\n',\n",
              " 'Human 1: Nice to meet you! Is this your first time doing something like this?\\n',\n",
              " 'Human 2: Yes, interesting task! When did you start with the team?\\n',\n",
              " 'Human 1: I have been with the company for over 3 years. Stick with the same team What about you?\\n',\n",
              " 'Human 2: Great to know! I joined the project earlier in the year. I think we should sync later for lunch.\\n',\n",
              " 'Human 1: That sounds like a perfect plan!\\n',\n",
              " 'Human 2: Sure, which cafe do you prefer?\\n',\n",
              " \"Human 1: Let's try something different. What about <REDACTED_TERM>? Do you always prefer lunch sync over regular meeting syncs?\\n\",\n",
              " 'Human 2: Yeah right, I heard the food there is good. I am not sure what they serve there for lunch? On wednesdays.\\n',\n",
              " 'Human 1: We can check the menu then decide :)\\n',\n",
              " 'Human 2: Actually, the menu looks good. Looking forward to it then.\\n',\n",
              " 'Human 1: Sure. See you then!\\n',\n",
              " 'Human 1: Hi!\\n',\n",
              " \"Human 2: Hello. How's your week coming along?\\n\",\n",
              " \"Human 1: It's great, thanks. I'm trying to learn how to make croissants.\\n\",\n",
              " \"Human 2: Wow that's interesting. I have baked cookies, but croissants seem much more sophisticated. Did you make any progress?\\n\",\n",
              " \"Human 1: I've done them once or twice so far, but they haven't been flakey enough. I'm trying to figure out why. What kind of cookies have you made?\\n\",\n",
              " \"Human 2: Mint chocolate chips. I think your croissants not being flakey could have something to do with your oven's temperature.\\n\",\n",
              " 'Human 1: Ah, good thought, thanks!\\n',\n",
              " \"Human 2: Have you thought about melting some chocolate into your croissants? They don't have to be something unhealthy. For example, melted dark chocolate is good for the heart, and makes the resulting croissants taste much better.\\n\",\n",
              " \"Human 1: Now that is a good idea. I'll give it a try next time. Would you say you have a sweet tooth?\\n\",\n",
              " \"Human 2: Yes. When my top favorite food looks like: cookies, M&M, danish cheese, etc., I know that I have a thing for sweet food. But who doesn't love sweet food? How about you?\\n\",\n",
              " \"Human 1: Some people don't! But yeah, me too, I think I'd eat pastries all the time if I could get away with it.\\n\",\n",
              " \"Human 2: Yeah I'm afraid I wouldn't. I feel very guilty every time I gulp down an ice cream. But hey, these days there are many types of guilt-free sweet food. For example, there's this ice cream brand called <REDACTED_TERM>. It's only 320 calories a pint. And yes, it preserves most of the normal sweet flavors.\\n\",\n",
              " 'Human 1: Wow! The last time I paid attention to that sort of stuff was when <REDACTED_TERM> was being marketed as a fat substitute, and caused all sorts of crazy stomach upsets.\\n',\n",
              " 'Human 2: Interesting. I heard about the sweet substitute in a program called the Keto diet. Basically, we try to limit our sugar intake every day. Successful Keto dieters have recommended the <REDACTED_TERM> ice cream to fill their insatiable crave for sugar.\\n',\n",
              " \"Human 1: Ah, maybe that's the solution I need to enjoy sweets and not feel guilty 🙂\\n\",\n",
              " 'Human 1: Hi!\\n',\n",
              " 'Human 2: Hello! tell me something about the holiday season?\\n',\n",
              " 'Human 1: Are you talking about thanksgiving? I plan to do plenty of shopping here. Do you have any plans?\\n',\n",
              " \"Human 2: Yes, no shopping plans but I can't wait to eat thanksgiving food. yay for pumpkin pie\\n\",\n",
              " 'Human 1: Sounds great! you need not wait for thanksgiving for pumpkin pie 🙂\\n',\n",
              " 'Human 2: LOL I feel less guilty about eating a whole pie when i have the excuse :P\\n',\n",
              " 'Human 1: True! I think thanksgiving is more about sharing. So you may end up sharing the pie with the whole family :P\\n',\n",
              " \"Human 2: My family eats healthier than I do, so it's all mine 😛 do you like stuffing? I feel like that's only available once a year\\n\",\n",
              " 'Human 1: Stuffing! yes please! I wonder what would be the excitement levels for christmas then :)\\n',\n",
              " \"Human 2: Also more shopping? what should I buy if I don't know what I want?\\n\",\n",
              " 'Human 1: Like everything that has a discount tag! .. kidding! I normally do some research for the prices, and mostly buy clothes and electronics.\\n',\n",
              " \"Human 2: What's the best holiday deal you've found in the past? \\n\",\n",
              " 'Human 1: I bought the best suit ever for a price that may scare you 🙂\\n',\n",
              " 'Human 2: hit me with it! \\n',\n",
              " 'Human 1: Hehe, sure! I can share some links with you later.\\n',\n",
              " 'Human 1: Hi!\\n',\n",
              " \"Human 2: How's it going?\\n\",\n",
              " \"Human 1: I'm so sleepy today!\\n\",\n",
              " 'Human 2: Not enough sleep last night?\\n',\n",
              " 'Human 1: yeah was working all night on a homework\\n',\n",
              " 'Human 2: Oh really? What class?\\n',\n",
              " \"Human 1: Biology. I'm gonna be a doc someday ha\\n\",\n",
              " 'Human 2: Haha, are you in med school? Or are you pre-med?\\n',\n",
              " 'Human 1: no high school actually haha\\n',\n",
              " 'Human 2: haha, very ambitious for a high schooler! Do you know what kind of medicine you want to practice?\\n',\n",
              " 'Human 1: I wanna be a brain surgeon!!\\n',\n",
              " 'Human 2: Ooof! VERY ambitious. Do you have steady hands?\\n',\n",
              " 'Human 1: Kind of I think\\n',\n",
              " 'Human 2: I guess I can practice?\\n',\n",
              " 'Human 1: Is that something you can practice?\\n',\n",
              " \"Human 2: I don't know tbh\\n\",\n",
              " \"Human 1: I honestly thought it was one of those things you have to be born with... Not that you shouldn't try though!\\n\",\n",
              " 'Human 2: good point. I should ask my teacher if I have to be born with that\\n',\n",
              " 'Human 1: Maybe its a little too early to even be thinking about this. Just aim for med school and enjoy the journey!\\n',\n",
              " 'Human 2: yeah\\n',\n",
              " 'Human 1: What other subjects do you enjoy? Try to keep an open mind!\\n',\n",
              " 'Human 1: Hi!\\n',\n",
              " 'Human 2: Hi. This is a pleasant surprise.\\n',\n",
              " 'Human 1: Haha...thanks! how did you like the gift?\\n',\n",
              " \"Human 2: Currently unpacking it I guess. How's your morning?\\n\",\n",
              " 'Human 1: Hope you like it! Morning is good. Busy finishing up stuff before the holidays.\\n',\n",
              " \"Human 2: I think I traveled too much the last couple of months so no holiday for me. But I'm okay with that. Going anywhere exciting?\\n\",\n",
              " 'Human 1: Yes\\n',\n",
              " 'Human 2: Where to?\\n',\n",
              " 'Human 1: Hawaii... looking forward to warm beaches.\\n',\n",
              " 'Human 2: WOW. Which island? I like Hawaii.\\n',\n",
              " 'Human 1: Mauii...Hope I like it too. Never been there before.\\n',\n",
              " \"Human 2: I visited Maui. It's my second favourite island I've been to, globally. You should try driving on road to Hana. It's a whole day thing but it's worth it.\\n\",\n",
              " 'Human 1: Awesome! Thanks for the tip.\\n',\n",
              " 'Human 1: Hi!\\n',\n",
              " 'Human 2: Hi! Sorry for the late response. How are you doing?\\n',\n",
              " \"Human 1: I'm great, thanks! I'm meeting some friends for a soccer game soon. What about you?\\n\",\n",
              " \"Human 2: I just got a matcha latte 🙂 Doing some work at my desk. Do you play soccer often? I'm trying to get into doing a regular physical activity\\n\",\n",
              " \"Human 1: Yes, but I'm terrible at it. It's fun to play anything with friends, I think. Would you prefer to exercise with a group, or by yourself, do you think?\\n\",\n",
              " \"Human 2: I think playing a team sport would be fun if it's casual but I primarily run by myself if I exercise. I also got the Ring Fit adventure game on the switch recently. It's basically a game-ified way to exercise\\n\",\n",
              " \"Human 1: I'm thinking about getting a Switch, would you recommend it?\\n\",\n",
              " 'Human 2: Yes! There are a lot of really great games on the Switch. Two of my favorites are Octopath Traveler and Fire Emblem. Do you play a lot of video games?\\n',\n",
              " \"Human 1: I'm not much of a gamer but it's something I'd like to get into.\\n\",\n",
              " 'Human 2: What do you do in your free time?\\n',\n",
              " \"Human 1: I like to read for fun. I just finished a book called Temeraire. It's an adventure story set in the Napoleonic navy, like Patrick O'Brien, except there are dragons too.\\n\",\n",
              " 'Human 2: Oh cool! I read a lot for fun too 🙂 My favorite genre is sci-fi fantasy.\\n',\n",
              " \"Human 1: What's the most recent good thing you read?\\n\",\n",
              " 'Human 2: My recent favorites have been mostly sci-fi (Exhalations, Vita Nostra and Dark Matter) but I like a lot of Sanderson/Garth Nix fantasy books\\n',\n",
              " 'Human 1: Hi!\\n',\n",
              " \"Human 2: hey, what's up?\\n\",\n",
              " 'Human 1: What do you think about human like chat bots?\\n',\n",
              " \"Human 2: I can't wait for them to be great conversationalists!\\n\",\n",
              " 'Human 1: Yep, we seemed to have made some great progress over last few years. Do you think the positives outweigh the negatives\\n',\n",
              " 'Human 2: are there even any negatives? what are they? \\n',\n",
              " 'Human 1: Like impersorsination? Though it sounds far fetched :)\\n',\n",
              " \"Human 2: People can already impersonate other people though! I think it'd be great to have bots to converse with\\n\",\n",
              " 'Human 1: True that! Some of these bots are very engaging and funny. They are now good at even sarcasm I wonder how far are we from the time these bots start giving monologues :)\\n',\n",
              " 'Human 2: What do you think are the big advantages? Like personal assistants?\\n',\n",
              " 'Human 1: I think it can take many different forms as a product. The research implication is also huge! It will signify how AI research has progressed so far and better place to tackle more futuristic problems 🙂 Sort of like stepping on the moon 🙂 I might be overselling it here 😛\\n',\n",
              " \"Human 2: No, I agree -- it's such an exciting time to be alive to get to witness all this and be a part of it. I wonder if I'll be able someday to get a chatbot to just auto-suggest conversations for me\\n\",\n",
              " 'Human 1: The current auto-suggestions already do pretty good 🙂\\n',\n",
              " \"Human 2: Yeah those are actually really good for a few words! I'm imagining like it comes up with a whole conversational response, like a default template\\n\",\n",
              " 'Human 1: haha, pretty far fetched 🙂 Nice having this conversation with you!\\n',\n",
              " 'Human 2: Same with you! \\n',\n",
              " 'Human 1: Hi!\\n',\n",
              " 'Human 2: Hi!\\n',\n",
              " 'Human 1: Any big plans for the upcoming holidays?\\n',\n",
              " 'Human 2: Sorry for the late response -- Yes, I will be going skiing in Tahoe over the holidays.\\n',\n",
              " \"Human 1: That sounds amazing. I want to learn how to ski but I feel like I'm too old and falls would have lifelong impacts. Are you going with friends?\\n\",\n",
              " 'Human 1: Hi!\\n',\n",
              " 'Human 2: Hi 🙂\\n',\n",
              " 'Human 1: I just came back from work. so tired\\n',\n",
              " 'Human 2: Oh I am sorry to hear! What did you work on?\\n',\n",
              " \"Human 1: I'm a lawyer. so talking to clients most of the day\\n\",\n",
              " \"Human 2: Oh you are a lawyer. I've been so interested in this profession.\\n\",\n",
              " 'Human 1: really? why?\\n',\n",
              " \"Human 2: it's so stressful 🙂\\n\",\n",
              " 'Human 1: It is so different from what I am doing to earn a life\\n',\n",
              " 'Human 2: what do you do?\\n',\n",
              " 'Human 1: I am a painter\\n',\n",
              " 'Human 2: oh wow what type of paintings do you do?\\n',\n",
              " 'Human 1: I do oil painting.\\n',\n",
              " 'Human 2: nice. like of people or nature or something else?\\n',\n",
              " 'Human 1: I do a lot of different kinds\\n',\n",
              " 'Human 2: cool I wanna see it someday\\n',\n",
              " 'Human 1: Sure! No problem!\\n',\n",
              " 'Human 1: Hi!\\n',\n",
              " 'Human 2: Do you believe in miracles?\\n',\n",
              " 'Human 1: Lol. No. I know too many people whose lives suck.\\n',\n",
              " 'Human 2: Should we be helping them, so it sucks less?\\\\\\n',\n",
              " \"Human 1: It's too many of them out there. You help who you can. Regardless, I wouldn't say I believe in miracles - well, if I got promoted next cycle I might change my mind.\\n\",\n",
              " 'Human 2: Haha... Well, it sounds like career is really important to you. What matters to you the most in life?\\n',\n",
              " \"Human 1: Right now, not much. It's unclear. Career is a good fallback because you get told what good means and you act accordingly. I haven't gone through the process of shaping my values. What about you?\\n\",\n",
              " \"Human 2: I'd say that I want to live for the best possible world in my lifetime. It's probably a result of my playing too many video games as a child.\\n\",\n",
              " \"Human 1: We didn't have electricity growing up. Explains a lot. Lol.\\n\",\n",
              " \"Human 2: Does not having had electricity help you empathize more with people of differing backgrounds and/or makes you feel a bit a distance from those who don't understand?\\n\",\n",
              " 'Human 1: It makes it easier to empathise with people who grew up lacking things. Not sure it makes me empathise with people in general. Where did you grow up?\\n',\n",
              " 'Human 2: I grew up in the United States, but my parents were immigrants and ended up being scammed of all their money, so we moved to Taiwan to live with family for a little bit.\\n',\n",
              " 'Human 1: ALL THEIR MONEY? By a person or an organisation?\\n',\n",
              " \"Human 2: I was kind of too young to really understand, but apparently there are people who scam Asian immigrants into investing in their own restaurant business. I know that the other part of it was that my mom got sick/hospitalized, and we didn't have insurance. To be honest, I don't really know what really happened versus what my parents want people to think. I just know that one minute I was in the US, and then they put me on a plane to Taiwan, and I never saw my stuff again. In some ways, it made me more sentimental. Would you say you are more grounded and practical as a result of your background?\\n\",\n",
              " 'Human 1: Hi!\\n',\n",
              " 'Human 2: Hello!\\n',\n",
              " 'Human 1: Do you have any holiday plans for christmas?\\n',\n",
              " 'Human 2: Nothing much, I am going to sit back and relax at home, how about you ?\\n',\n",
              " 'Human 1: Same here! I would imagine spending the whole time watching movies and netflix shows. Do you have any netflix recommendations for me?\\n',\n",
              " \"Human 2: Netflix has great documentaries on different topics , I particularly liked wild wild country and explained, as for shows you should watch 'billions' Hope you like them!\\n\",\n",
              " 'Human 1: oh right, already seen wild wild country. What is billions about?\\n',\n",
              " \"Human 2: It's based on the life of a wall street hedge fund owner, how he makes money and fights with the government when they try to destroy him. Very well made and has a good plot.\\n\",\n",
              " 'Human 1: I have just seen 1 season of Friends I should give it another try though 🙂 Have you seen Frasier?\\n',\n",
              " \"Human 2: Not yet What's it about?\\n\",\n",
              " 'Human 1: A psychiatrist working for radio .. Great humour! its actually a spinoff from a very famous series called cheers. So people are already familiar with his character. \\n',\n",
              " 'Human 2: Great! how is everything else going? how was your trip last week?\\n',\n",
              " 'Human 1: Everything is ok, had a really nice trip. Visited SF, Grand canyon and Vegas. Was a lot of fun exploring all these new places. Have you been to Grand canyon ? \\n',\n",
              " 'Human 2: Actually not yet! May be something i can visit this christmas 🙂\\n',\n",
              " \"Human 1: You should visit it sometime, it's a wonderful place. Try to drive down there yourself or with a group of friends\\n\",\n",
              " 'Human 2: True! Well, thanks for your inputs! Have a good rest of the day! :)\\n',\n",
              " 'Human 1: Nice talking to you too!\\n',\n",
              " 'Human 1: Hi!\\n',\n",
              " 'Human 2: Hi there!\\n',\n",
              " 'Human 1: are you participating in the mentorship program this cycle?\\n',\n",
              " 'Human 2: You mean as a mentor or a mentee?\\n',\n",
              " 'Human 1: either of them... I find mentorship overall pretty useful\\n',\n",
              " 'Human 2: I have done it in the past but not this cycle. What about you?\\n',\n",
              " 'Human 1: I signed up this time to be a mentee. I have got a good mentor .\\n',\n",
              " 'Human 2: Wow, that is nice of you. For the mentor program, personally I prefer more 1:1 conversations than the group discussions. The group discussion i useful as well but the topics are too general.\\n',\n",
              " 'Human 1: yeah... I certainly prefer 1:1 as well, but sometimes it good to hear other peer perspective as well.\\n',\n",
              " 'Human 2: Thanks for sharing your experience! Now I am thinking maybe I should join as a mentor as well since I enjoyed it as a mentee 🙂\\n',\n",
              " 'Human 1: Great! What sort of things do you plan to mentor on?\\n',\n",
              " 'Human 2: Hmm, maybe about work life balance 😉\\n',\n",
              " 'Human 1: Very cool. I have been working on my communication skills with my mentor this cycle\\n',\n",
              " 'Human 2: Ah I see. How is it going?\\n',\n",
              " 'Human 1: Going good. In the last session, everyone had to actually prepare and give a presentation. Pretty serious stuff 😉\\n',\n",
              " 'Human 1: Hi!\\n',\n",
              " 'Human 2: Hey! How are you feeling today?\\n',\n",
              " 'Human 1: Good you?\\n',\n",
              " \"Human 2: I'm a little scared because I have to cook dinner for some friends tonight.\\n\",\n",
              " 'Human 1: where did you meet them?\\n',\n",
              " 'Human 2: At college, when we were all studying geology.\\n',\n",
              " 'Human 1: cool. have you graduated already?\\n',\n",
              " 'Human 2: Yes, we graduated back in the seventies. We meet for dinner every year and take turns to host.\\n',\n",
              " \"Human 1: neat. what are y'all eating?\\n\",\n",
              " \"Human 2: I don't know!! That's what I'm scared about. Everyone else is a great cook and I'm a klutz. Do you like cooking?\\n\",\n",
              " \"Human 1: lol what's a klutz? yeah I like, but I'm not good\\n\",\n",
              " \"Human 2: What's your favorite dish to cook? Do you have a go-to?\\n\",\n",
              " 'Human 1: ground beef pretty easy\\n',\n",
              " \"Human 2: Ah, solid. What's your favorite sport?\\n\",\n",
              " \"Human 1: I like badminton. I'm quite decent at it\\n\",\n",
              " \"Human 2: I played that in high school once or twice. I liked that it's pretty easy for beginners, unlike, say, squash.\\n\",\n",
              " 'Human 1: I never played squash. would love to try\\n',\n",
              " \"Human 2: Don't! It's very hard! You feel like an idiot until you've practiced for months and months.\\n\",\n",
              " 'Human 1: hi\\n',\n",
              " 'Human 2: i was talking to robot all the time:)\\n',\n",
              " 'Human 1: haha. what are you talking about?\\n',\n",
              " 'Human 2: kpop...\\n',\n",
              " \"Human 1: ok. who's your favorite group\\n\",\n",
              " 'Human 2: i dont like kpop now\\n',\n",
              " 'Human 1: why not?\\n',\n",
              " 'Human 2: im old now\\n',\n",
              " 'Human 1: hahaha\\n',\n",
              " 'Human 2: what do you like now?\\n',\n",
              " 'Human 1: john mayer:)\\\\\\n',\n",
              " 'Human 2: I think I know him. does he have a sort of mellow style?\\n',\n",
              " 'Human 1: what is mellow style\\n',\n",
              " \"Human 2: I think it's like a bit sad and slow\\n\",\n",
              " 'Human 1: umm yes he has some but not all\\n',\n",
              " 'Human 2: you mean some songs of his are like that but not all?\\n',\n",
              " 'Human 1: yes I do. you act like a robot how about me? am I like a robot?\\n',\n",
              " 'Human 2: a little bit haha\\n',\n",
              " 'Human 1: Hi!\\n',\n",
              " 'Human 2: Hi\\n',\n",
              " \"Human 1: Okay...so I need someone to help me though a scenario I've been pondering.\\n\",\n",
              " 'Human 2: Sure, whats the scenario?\\n',\n",
              " \"Human 1: My partner's former friend invited me for lunch (they are not in good books right now). But during their friendship I formed an independent bond with the other person because we all used to hang out a lot. Now I feel like I have to take sides.\\n\",\n",
              " \"Human 2: That's a tough scenario to be in 🙂 I firmly believe in talking this through with your partner. Though i don't know the specifics of why things went bad between your partner and his friend, but I believe things can always improve between friends.\\n\",\n",
              " \"Human 1: I hope they do. Getting older already means smaller circles. It sucks to lose friends for arbitrary reasons. That's good advice though. I fear raising the issue might sound like treason. Lol.\\n\",\n",
              " 'Human 2: True about that! I also think time helps to heal certain situations. So may be doing nothing is the best way forward.\\n',\n",
              " 'Human 1: AKA avoiding all texts from everyone?\\n',\n",
              " 'Human 2: Nope, that would be extreme. May be just putting some balance between the two options.\\n',\n",
              " \"Human 1: People always say to find a balance but never say what the balance is. It's used so often that it's vacuous.\\n\",\n",
              " \"Human 2: Right, I guess that's because there is no one answer to this. It depends on what you value more and some factors around you. Also, life won't be interesting if others are figuring things out for you 😉\\n\",\n",
              " \"Human 1: Lol. I'm finna be single.\\n\",\n",
              " 'Human 2: Hehe, everyone is much finer being single 🙂\\n',\n",
              " 'Human 1: Hi!\\n',\n",
              " 'Human 2: Hello there!\\n',\n",
              " \"Human 1: How's your day going?\\n\",\n",
              " \"Human 2: I've seen better days, how about you?\\n\",\n",
              " \"Human 1: I'm good I'm good. What's getting you down?\\n\",\n",
              " 'Human 2: The clouds overhead are playing on your mind, any plans for the coming vacations?\\n',\n",
              " \"Human 1: I'm thinking of going to visit my family. How about you?\\n\",\n",
              " 'Human 2: Was thinking the same, where does your family live?\\n',\n",
              " \"Human 1: They're in New York. How about yours?\\n\",\n",
              " 'Human 2: Mine is in India, it is a long way away.\\n',\n",
              " \"Human 1: Ahh what city? I've visited India before.\\n\",\n",
              " 'Human 2: Hyderabad, it is a beautiful city in the southern part of India. Which cities have you gone to in India?\\n',\n",
              " 'Human 1: Hyderabad! and Bangalore! Great food in both cities! Is it still hot this time of year?\\n',\n",
              " 'Human 2: It varies, but can go till 30C in the winters as well. New York must be snowing right?\\n',\n",
              " 'Human 1: Yes. I was actually just there a few weeks ago for Thanksgiving and got to see the first snow of the season! Ever been to New York?\\n',\n",
              " \"Human 2: No, I've never been to the East Coast, thinking of going after the winter, I don't like the cold.\\n\",\n",
              " 'Human 1: Hi!\\n',\n",
              " 'Human 2: Hey, how are you?\\n',\n",
              " \"Human 1: I'm good. How are you doing today?\\n\",\n",
              " 'Human 2: Great, just had some delicious lunch. How about you?\\n',\n",
              " 'Human 1: I was flying my kite today in the sunshine! What did you have for lunch?\\n',\n",
              " 'Human 2: nice! Garbanzo fritters and mussels 🙂\\n',\n",
              " 'Human 1: Oh that is great! I love seafood - especially shellfish!\\n',\n",
              " \"Human 2: yeah, it's very healthy too. I want to someday go crabbing..it is really popular in SF\\n\",\n",
              " 'Human 1: Oh nice! Is it hard?\\n',\n",
              " \"Human 2: not really, it just requires a lot of patience. You fill up the bait in the crab-pot and drop it in the ocean. Then you wait for a couple of hours to pull the crab-pots out, and voila, you'd have crabs -- if you are lucky!\\n\",\n",
              " 'Human 1: Oh wow, you sound like an expert! Have you done this before?\\n',\n",
              " 'Human 2: nah! Just watched a lot of youtube videos\\n',\n",
              " 'Human 1: haha, you really have done your research I suppose! Ever done any other kind of fishing or hunting?\\n',\n",
              " \"Human 2: nope, but I've seen a lot of videos on that too\\n\",\n",
              " 'Human 1: Ahh, would you consider yourself an outdoorsy type of person?\\n',\n",
              " \"Human 2: depends on the day. Some days I'm very outdoorsy, on others I just like to be inside\\n\",\n",
              " 'Human 1: Hi!\\n',\n",
              " 'Human 2: Hi there\\n',\n",
              " \"Human 1: How's your day going?\\n\",\n",
              " 'Human 2: So far so good. It is Wednesday. To more days, yeah\\n',\n",
              " 'Human 1: Haha are you looking forward to the weekend?\\n',\n",
              " 'Human 2: Yeah, gonna watch <REDACTED_TERM> with my friends. First time. So excited.\\n',\n",
              " 'Human 1: Oh wow! Are you going to watch it live? Or watch it on TV?\\n',\n",
              " 'Human 2: Live in san jose This Saturday.\\n',\n",
              " 'Human 1: Oh, the sharks??? Hokey is actually really fun live! Although, it can be a little violent.. haha\\n',\n",
              " 'Human 2: Yeah! That what I heard as well. There are players just for fight! Wow, must be fun to watch lol Are you planning anything for the weekend?\\n',\n",
              " 'Human 1: You might like the UFC haha. I actually have a jiu jitsu tournament coming up so this weekend I will be training!\\n',\n",
              " 'Human 2: lol I will try if I can watch ufc live 😉 Wow, when did you start jiu jitsu?\\n',\n",
              " \"Human 1: It's just been a little over a year. I'm still pretty amateur, but I figured I should give competing a try and just put myself out there.\\n\",\n",
              " \"Human 2: wow, that's amazing. Good luck with it!\\n\",\n",
              " 'Human 1: Yeah, as long as I do not pass out, I will consider that a win!\\n',\n",
              " 'Human 2: lol I will cross my fingers for you then\\n',\n",
              " 'Human 1: Where do you stay?\\n',\n",
              " 'Human 2: At Home :)\\n',\n",
              " 'Human 1: Who created You?\\n',\n",
              " 'Human 2: A humble man made me!\\n',\n",
              " 'Human 1: Hi!\\n',\n",
              " \"Human 2: Hey, how're you doing? Busy with your work?\\n\",\n",
              " \"Human 1: Yes, actually it was a very busy day! How's your day so far?\\n\",\n",
              " \"Human 2: Well, usual workday. Reading others' code, debugging, experimenting…\\n\",\n",
              " 'Human 1: Hope you are having fun doing that 🙂 Any plans for the weekend?\\n',\n",
              " 'Human 2: Not yet. I am actually thinking about traveling to Europe next spring. What about you?\\n',\n",
              " 'Human 1: Europe sounds fun! I will just stay home and watch the game. Where in europe do you plan to visit?\\n',\n",
              " 'Human 2: I like all the historical sites, so probably France, Germany, or Italy.\\n',\n",
              " \"Human 1:  Sounds great! I recommend spain. It's perfect for road trips.\\n\",\n",
              " \"Human 2: I also need to pick up my Spanish. I learned it in my college, but since then haven't used it that much.\\n\",\n",
              " \"Human 1:  Yep, i tried learning spanish too, but couldn't make much progress. But i should do decent with my german.\\n\",\n",
              " \"Human 2: True! I learnt it from school. But didn't get much chance to speak. Hope you have fun with your trip!\\n\",\n",
              " 'Human 1:  Thanks! Let me try to make all the arrangement as soon as possible. Hope you also enjoy your weekday and weekend as well\\n',\n",
              " 'Human 1: Hi!\\n',\n",
              " \"Human 2: Hey! How's your day been?\\n\",\n",
              " \"Human 1: It's good! I spent most of it watching horse racing. How about yourself?\\n\",\n",
              " \"Human 2: nice! what's your favorite part about watching horse racing? My day has been pretty busy, but I had a nice lunch with a friend. It was good to catchup with him\\n\",\n",
              " \"Human 1: I actually like to put down some money, but I wouldn't call it my favorite part, since I usually lose it... haha. Catching up with friends is great! How long had it been?\\n\",\n",
              " 'Human 2: The last I saw him was a month ago! So yup it was great Haha, nice 🙂 Got any fun plans for the weekend?\\n',\n",
              " \"Human 1: I'm thinking of going deep sea fishing. Ever tried that before?\\n\",\n",
              " \"Human 2: Nope I haven't, have you been fishing before?\\n\",\n",
              " 'Human 1: Just once! I got super sea sick.. haha Have any fun weekend plans yourself?\\n',\n",
              " 'Human 2: Haha 😆 Yeah I get sea sick on boats too Nothing much, just visiting some friends in San Francisco\\n',\n",
              " 'Human 1: Oh very cool. I hear its nice over there. Do you go often?\\n',\n",
              " 'Human 2: Yeah I would say maybe every couple weeks or so what are your favorite cities to visit?\\n',\n",
              " \"Human 1: New York is the top of my list because my family lives there! As far as the city itself though... I think I'd prefer someplace outside of the US, like Tokyo. What about you?\\n\",\n",
              " \"Human 2: nice! I love NYC 🙂 so fun to visit yeah I would probably also say New York is my favorite city inside the US I also like Paris, it's so pretty there\\n\",\n",
              " \"Human 1: Oh I've never been! It is such an iconic place, I have to make the time to get there soon.\\n\",\n",
              " \"Human 2: You should, it's a beautiful city!\\n\",\n",
              " 'Human 1: Hi!\\n',\n",
              " 'Human 2: Hello, how are you doing today?\\n',\n",
              " 'Human 1: I heard they are giving out some goodies in microkitchen.\\n',\n",
              " 'Human 2: I love pop ups! What kind of goodies are they giving away?\\n',\n",
              " 'Human 1: I guess its a jacket! Very much needed that in the cold 🙂\\n',\n",
              " \"Human 2: That's such a great idea, especially at this time of the year. I'm not too big a fan of the cold. I prefer warmer climates. Do you enjoy the cold?\\n\",\n",
              " \"Human 1: Sure hate it! Limits our ability to go out even for a walk! Its good that we don't get to suffer extreme cold weather!\\n\",\n",
              " 'Human 2: Me too! I moved here a few years ago to get out of the extreme cold. I do not care for bundling up and having to wear so many layers just to go buy eggs at the store.\\n',\n",
              " 'Human 1: Oh nice! Where did you live before?\\n',\n",
              " 'Human 2: Upstate New York. We got a foot of snow every week during my last winter there. I am so glad to not have to shovel snow now\\n',\n",
              " 'Human 1: New york! Nice! Best place to live 🙂 .. right, except for the cold!\\n',\n",
              " 'Human 2: Very beautiful during all the seasons but yes, summer and winter can get extreme!\\n',\n",
              " 'Human 1: Anyways, i guess we should better hurry up to get the goodies. I remember last time they ran out of it.\\n',\n",
              " 'Human 2: Very true. Which MK were they in again?\\n',\n",
              " 'Human 1: The one in our floor. I will get by your desk and we can walk there.\\n',\n",
              " 'Human 2: Sounds good, thanks!\\n',\n",
              " 'Human 1: Hi!\\n',\n",
              " \"Human 2: How's your day going?\\n\",\n",
              " 'Human 1: Pretty busy, lots of work to finish up. You?\\n',\n",
              " 'Human 2: Likewise. What have you been up to that gives you so much work?\\n',\n",
              " 'Human 1: A couple projects that I am trying to finish up before Thanksgiving 🙂 Do you have any fun plans for the break?\\n',\n",
              " \"Human 2: What is a break? I'm a grad student. I don't understand the concept of a break. Just kidding. I don't have any plan. Probably just going to work through the break.\\n\",\n",
              " 'Human 1: Haha XD so what do you like to do for fun?\\n',\n",
              " 'Human 2: I go to the gym and run until I find enough fun.\\n',\n",
              " \"Human 1: cool! I've started to run a bit as well not long distances though, just a couple miles\\n\",\n",
              " \"Human 2: A couple of miles is very impressive. When I started, I couldn't even last 1 mile.\\n\",\n",
              " 'Human 1: haha\\n',\n",
              " \"Human 2: I'm exhausted by the end of it though 😛 Do you like to run long distances or mostly sprints?\\n\",\n",
              " 'Human 1: I like to do long distances. I have run a few marathons.\\n',\n",
              " \"Human 2: wow! that's amazing did you do any marathons this year?\\n\",\n",
              " 'Human 1: No. Not this year. This is my half-marathon year. Instead of running marathons, I run one half-marathon every month.\\n',\n",
              " 'Human 2: oh wow, what was the last half marathon you did?\\n',\n",
              " 'Human 1: Two days ago. It was a tough one.\\n',\n",
              " 'Human 2: Cool!\\n',\n",
              " 'Human 1: Hi!\\n',\n",
              " 'Human 2: hello there, how is it going?\\n',\n",
              " 'Human 1: Pretty great. I just won a pingpong game. What about you?\\n',\n",
              " \"Human 2: that's nice. I am just working on some documentation. Do you play pingpong often?\\n\",\n",
              " \"Human 1: No, very rarely. It's kind of amazing that I won, but I'm still taking credit for it.\\n\",\n",
              " 'Human 2: thats very impressive then, congrats!\\n',\n",
              " \"Human 1: Haha thank you, I guess I'm just a natural. What's your favourite game?\\n\",\n",
              " \"Human 2: I really like to play tennis, badminton and racquetball. I don't really get a chance to play them often though, specially racquetball\\n\",\n",
              " \"Human 1: What's racquetball like? From context clues, I'm guessing that it involves hitting a ball with a racquet\\n\",\n",
              " \"Human 2: well, it's like a cage match of tennis. The main difference is that both players play in the same 'court' and the ball is smashed against a wall instead of passing it over a net into the opponent's court. Kind of like playing pingpong vs the table.\\n\",\n",
              " 'Human 1: Wow! A cage match! Does it get physical?\\n',\n",
              " 'Human 2: it depends haha, there is a lot of bumping into each other to run after the ball, and sometimes the ball hits you too. Overall it feels like a super fast paced version of tennis, really tiring!\\n',\n",
              " \"Human 1: That sounds fun. I think of tennis itself as being really athletic and tiring, so I don't think it's a sport for me, though!\\n\",\n",
              " 'Human 2: ping pong can get quite intensive too! I guess short ping pong sessions are not that tiring though. Wanna have a match?\\n',\n",
              " \"Human 1: What a good idea, I'd love to!\\n\",\n",
              " 'Human 1: Show me your anger!!!!\\n',\n",
              " 'Human 2: Fuckkkkkkk!!!!\\n',\n",
              " 'Human 1: Hi!\\n',\n",
              " 'Human 2: hi\\n',\n",
              " 'Human 1: what are you up to?\\n',\n",
              " 'Human 2: code refactoring. you?\\n',\n",
              " 'Human 1: me? just chilling out at work. what is code refactoring?\\n',\n",
              " \"Human 2: good question. I don't even know what I am doing\\n\",\n",
              " 'Human 1: haha, forget it. what else do you like to do beside work?\\n',\n",
              " 'Human 2: lots of fun stuff. eating sleeping 🙂\\n',\n",
              " 'Human 1: these are important things to do in life 😉\\n',\n",
              " 'Human 2: yeah. keep minimalist life style only do things you have to do 🙂\\n',\n",
              " 'Human 1: what food do you like to eat?\\n',\n",
              " 'Human 2: Asian food prefer spicy one\\n',\n",
              " 'Human 1: like Szechuan or Hunan? 🙂\\n',\n",
              " 'Human 2: yes yes yes! like that style. Do you like spicy food?\\n',\n",
              " 'Human 1: I like noodle soup like Pho or Ramen. I also like Beijing duck a lot!\\n',\n",
              " 'Human 2: what is your favorite place for ramen?\\n',\n",
              " 'Human 1: I love <REDACTED_TERM> in San Mateo\\n',\n",
              " \"Human 2: haven't tried that one! will give it a try next time!\\n\",\n",
              " 'Human 1: yes, you should!\\n',\n",
              " 'Human 1: Hi!\\n',\n",
              " 'Human 2: Hi!\\n',\n",
              " 'Human 1: nice meeting you. what are you up to?\\n',\n",
              " 'Human 2: not much, thinking about lunch\\n',\n",
              " \"Human 1: yea, same here. any food you're craving for?\\n\",\n",
              " 'Human 2: I love sushi do you know of any good sushi places?\\n',\n",
              " 'Human 1: arghhh hard question ... I only know Ramen places for Japanese food 🙂\\n',\n",
              " 'Human 2: ooh ramen is also good\\n',\n",
              " 'Human 1: San Mateo to me has the best Ramen restaurants: Parlor and Dojo? oh no question mark 🙂\\n',\n",
              " \"Human 2: I haven't been to those palces before. Going to have to check them out! thanks for teh recommendation\\n\",\n",
              " 'Human 1: my pleasure 🙂 do you live near San Mateo?\\n',\n",
              " \"Human 2: no, but I'm willing to drive for good ramen\\n\",\n",
              " 'Human 1: excellent. let me know when you have tried those. I like Parlor better because it has soft-shell crabs\\n',\n",
              " 'Human 2: I\"ve never had softshell crab before, but it sounds really good!\\n',\n",
              " \"Human 1: yup it's delicious!\\n\",\n",
              " 'Human 1: Hi!\\n',\n",
              " \"Human 2: Hey, how's your day going?\\n\",\n",
              " 'Human 1: okayish, it is flying by quicker than I expected. How is your day going on?\\n',\n",
              " 'Human 2: Slowly, not much to do. Been twiddling my thumbs all day what have you been up to?\\n',\n",
              " \"Human 1: Oh, I would love to twiddle my thumbs. You're so lucky! Today, I've been mostly attending meetings, reading and writing docs, reading papers etc.\\n\",\n",
              " \"Human 2: That's a lot! I've just been cloud gazing - I saw a giraffe and an ice cream cone\\n\",\n",
              " 'Human 1: wow! I sometimes drift off during work, and see similar things in my head.\\n',\n",
              " 'Human 2: What kind of work do you do?\\n',\n",
              " 'Human 1: Mostly saving the world from mess on social media. How about you?\\n',\n",
              " \"Human 2: I'm taking a break from work. Going to go travel the world\\n\",\n",
              " 'Human 1: Nice, what all places would you be going to?\\n',\n",
              " 'Human 2: Australia and New Zealand to start then maybe Singapore\\n',\n",
              " \"Human 1: I just met someone who went diving in Australia. Apparently, you cannot fly 24 hrs after you dive, because your body accumulates too much <REDACTED_TERM> when breathing with a cylinder So, don't do that!\\n\",\n",
              " \"Human 2: Thank you for the tip! I don't plan on going diving, I plan to hike the mountains and go see kangaroos!\\n\",\n",
              " \"Human 1: That's equally amazing! I wish I can explore such places one day. It's just so expensive\\n\",\n",
              " 'Human 2: I won a lot of money through the lottery 🙂\\n',\n",
              " 'Human 1: woah!... You know sharing is caring. You should share that money with me :)\\n',\n",
              " 'Human 2: Haha, very true! Besides the trip, I donated the rest to charity so I will need to go back to work when I get back\\n',\n",
              " 'Human 1: you are a kind soul!\\n',\n",
              " 'Human 1: Hi!\\n',\n",
              " 'Human 2: Hi!\\n',\n",
              " 'Human 1: How is your day going?\\n',\n",
              " 'Human 2: It is pretty good. A little bit tired though.\\n',\n",
              " 'Human 1: How is your day?\\n',\n",
              " \"Human 2: My day is okay. At least, I'm not tired. What made you tired?\\n\",\n",
              " 'Human 1: I went to gym and worked on weight lifting.\\n',\n",
              " \"Human 2: Oh. That's hardcore. Have you been lifting for a long time?\\n\",\n",
              " 'Human 1: No, I am just a starter.\\n',\n",
              " 'Human 2: Do you go to the gym often?\\n',\n",
              " \"Human 1: I go everyday. In fact, I'm in a running challenge.\\n\",\n",
              " 'Human 2: Wow\\n',\n",
              " \"Human 1: It's actually not that impressive. I can only run. I cannot lift weight.\\n\",\n",
              " 'Human 2: You can get a coach to start it!\\n',\n",
              " \"Human 1: Oh that's a really interesting idea. I like to be coa\\n\",\n",
              " '\\n',\n",
              " 'Human 1: Hi!\\n',\n",
              " 'Human 2: Hello, how is your day?\\n',\n",
              " \"Human 1: It's good. It's raining a bit, but I am enjoying a good book. How about you?\\n\",\n",
              " \"Human 2: It's good, I just got back from walking my dog What book did you read?\\n\",\n",
              " \"Human 1: I'm reading the Three Body Problem. Ever heard of it?\\n\",\n",
              " 'Human 2: No, what is it about?\\n',\n",
              " \"Human 1: It's a sci-fi book about aliens and a type of virtual reality. Pique your interest at all?\\n\",\n",
              " 'Human 2: Slightly, I typically read fiction but I can curious what type of virtual reality is discussed in the book\\n',\n",
              " 'Human 1: Cool. This virtual reality is a based on life on an alien planet. There is a twist though. Do you want me to spoil it for you?\\n',\n",
              " 'Human 2: Yes!\\n',\n",
              " 'Human 1: The virtual reality is actually based on a real alien civilization! And that civilization is coming to attack earth! dun dun dun dunnnnnnn\\n',\n",
              " 'Human 2: Woah! That is fascinating! I will have to pick up a copy of the book to read.\\n',\n",
              " \"Human 1: There are other twists as well, so I haven't spoiled the whole thing! To be honest I am not a fan of spoilers\\n\",\n",
              " 'Human 2: Thanks for not spoiling it completely but you gave a really intriguing description that makes me want to read it now. I will have to pick it up after work\\n',\n",
              " 'Human 1: The audi book is also very good! Ever give those a try?\\n',\n",
              " 'Human 2: I only gave those a try when I had a concussion and could not read. I enjoy having a physical book in hand and reading at the pace I prefer. Do you listen to a lot of audi books?\\n',\n",
              " 'Human 1: Hi!\\n',\n",
              " \"Human 2: Hey, how's it going?\\n\",\n",
              " \"Human 1: It's good! How is your day?\\n\",\n",
              " 'Human 2: My day is good. A bit sad that it gets dark so early but oh well. Did you do anything fun over the weekend?\\n',\n",
              " 'Human 1: Yes, the darkness can be a bit depressing. This weekend I went rock climbing! It was great! How about yourself?\\n',\n",
              " 'Human 2: Rock climbing sounds fun! I had a pretty low-key weekend. Ended up going to watch a movie.\\n',\n",
              " 'Human 1: Oh nice! What movie?\\n',\n",
              " 'Human 2: Knives Out. It had Daniel Craig and one of the famous Captain America \"Chris\" person (I can\\'t keep track of all of the famous Chris names).\\n',\n",
              " 'Human 1: Hahah yes, they all look the same! I saw that very same movie over Thanksgiving break. Lots of twists and turns!\\n',\n",
              " \"Human 2: Cool. So if it weren't so dark and cold outside, what kind of activities would you do?\\n\",\n",
              " \"Human 1: Hmm good question. Evening runs can be fun, but it can be a little scary when it's dark out!\\n\",\n",
              " 'Human 2: Yeah, sunlight is good. I wish I could live part-time in different parts of the world to have summer all year round. Have you ever visited the southern hemisphere?\\n',\n",
              " \"Human 1: Yes! I've been to Australia. It was very nice; I regret not going to see the southern lights. Me personally, I like winter. But I'd prefer it to be more brief than it actually is here... Where are you from originally?\\n\",\n",
              " \"Human 2: I've always wanted to go to Australia. I'm originally from the US.\\n\",\n",
              " 'Human 1: Ahh me too! You should definitely try to visit Australia at least once!\\n',\n",
              " 'Human 2: Will do! Bye.\\n',\n",
              " 'Human 1: Hi!\\n',\n",
              " \"Human 2: What's your name?\\n\",\n",
              " 'Human 1: My name is pikachu. it’s nice to meet you! What are you up to this month?\\n',\n",
              " \"Human 2: Nice to meet you pikachu! pikachu, pikachu, pikachu? (That meant, I'm literally catching Pokemons on my phone right now!) What're you up to lately?\\n\",\n",
              " 'Human 1: I’m trying to organize my life and start the new year ready to go! What about you?\\n',\n",
              " \"Human 2: Wow, that's impressive. Admit I'm just trying to take each day and week as they come.\\n\",\n",
              " 'Human 1: What do you do to unwind?\\n',\n",
              " 'Human 2: Honestly, I like to catch Pokemons on my phone a lot. That must be upsetting since your name is pikachu though...sorry...\\n',\n",
              " 'Human 1: Oddly enough, I also catch Pokémon on my phone. I used to do it more, but it just never ends. I used to do it everyday. Now I mostly catch them when I travel somewhere exotic.\\n',\n",
              " \"Human 2: Oooh, that is more fun, but I don't travel that much these days so I'm grateful when I spot a Pokemon to catch where ever I happen to be. Do you have a favorite Pokemon? Mine is the cute pink JIgglypuff!\\n\",\n",
              " 'Human 1: In the game, i use vaporeon a lot. But I think pikachu is the cutest, that’s why I changed my name to match. Lately, I think baby Yoda is the cutest though. Have you seen baby yoda?\\n',\n",
              " \"Human 2: I have heard of him and seen him here and there, but admit I don't have Disney+, so I only heard baby yoda is super cute and popular. Maybe I'll binge watch The Mandalorian in a couple of years like I did Game of Thrones...\\n\",\n",
              " 'Human 1: What is your favorite show to watch right now?\\n',\n",
              " \"Human 2: Admit I really like watching Modern Family and Mix-ish. Reruns and new episodes. I find them cleverly written. What're you watching these days on TV?\\n\",\n",
              " 'Human 1: I was watching cat rescue videos on YouTube a lot. There sure are a lot of stray cat babies that get stuck in pipes and gutters in South Korea.\\n',\n",
              " \"Human 2: Oh dear, I never imagined that happening. Poor things, but good to hear they're being rescued.\\n\",\n",
              " 'Human 1: Do you like cats or dogs better? Do you have any pets?\\n',\n",
              " \"Human 2: I used to have a cat, hamster and fighting fish, but they've all lived long lives and gone to pet heaven, but I sure miss them.\\n\",\n",
              " 'Human 1: Hi!\\n',\n",
              " \"Human 2: hi there! it's a lovely day to chat with you\\n\",\n",
              " \"Human 1: Isn't it just! What are you up to today?\\n\",\n",
              " \"Human 2: ah I'm waiting to finish work earlier to meet my son at home 🙂\\n\",\n",
              " 'Human 1: Oh, excellent! What does your son like to do for fun?\\n',\n",
              " \"Human 2: ah he's like to ride his little bicycle around the house and asks me to follow 🙂 what are you up to today?\\n\",\n",
              " \"Human 1: I'm taking a fake sick day from work so I can go to the movies.\\n\",\n",
              " 'Human 2: haha that sounds like a good plan. who are you going with? 🙂\\n',\n",
              " \"Human 1: Just by myself. I love seeing movies by myself, it's the best.\\n\",\n",
              " 'Human 2: haha no one will interrupt you!\\n',\n",
              " \"Human 1: Exactly. Exactly! Plus, I don't have to share the popcorn with anyone. What's your favorite movie?\\n\",\n",
              " 'Human 2: haha, popcorn for yourself. my favorite movie is Avatar! what about you?\\n',\n",
              " \"Human 1: Get out of town! It's Avatar too. What are the odds!?\\n\",\n",
              " \"Human 2: haha it's a great movie that I haven't found anything of the same quality\\n\",\n",
              " \"Human 1: Yes. Can't wait for the sequels.\\n\",\n",
              " 'Human 1: Hi!\\n',\n",
              " 'Human 2: hello there, nice seeing you\\n',\n",
              " 'Human 1: Likewise.... wanted to know if you and the kids would want to join us for Disneyland trip around Christmas?\\n',\n",
              " 'Human 2: oh wow, that sounds like so much fun! definitely count us in. what is your plan?\\n',\n",
              " 'Human 1: Tentative plan is to drive to LA on 23rd and then stay at the Disney resort for 2 nights. I heard Christmas eve they have loads of fun events.\\n',\n",
              " \"Human 2: awesome, I think I won't tell my kids and surprise them last second. How bad do you think the traffic is going to be?\\n\",\n",
              " 'Human 1: Great idea! I will probably do the same. Surprise surprise.... Traffic might be a little harsh.\\n',\n",
              " 'Human 2: Yeah... thats a shame but nothing we can do about it. What do you plan to do about dinner the 24th? Do the rooms in the resort have kitchens?\\n',\n",
              " 'Human 1: Good point. I am not sure about that. Let me inquire about that. If not, then we can look for an Airbnb closeby. Does that work?\\n',\n",
              " 'Human 2: Yeah, I think so. It might be a tough decision though, if we want to have a nice dinner then we have to leave the parks early to start cooking. Another option is to have dinner at a restaurant.\\n',\n",
              " 'Human 1: but I would think everything is closed on christmas eve\\n',\n",
              " \"Human 2: Thats true. Hotels with restaurants sometimes offer dinners for christmas and new year's eve. We should call and ask about it.\\n\",\n",
              " 'Human 1: Sure, I can take a lead on that. What are you getting for your <REDACTED_TERM> year old this time?\\n',\n",
              " 'Human 2: I was thinking on getting a large set of standard legos. What will you get for yours?\\n',\n",
              " 'Human 1: Likewise. My son is crazy about legos.\\n',\n",
              " ...]"
            ]
          },
          "execution_count": 3,
          "metadata": {},
          "output_type": "execute_result"
        }
      ],
      "source": [
        "lines"
      ]
    },
    {
      "cell_type": "code",
      "execution_count": null,
      "metadata": {
        "colab": {
          "base_uri": "https://localhost:8080/"
        },
        "id": "-iTxdkuoPfi9",
        "outputId": "c222703b-0a4a-4d73-b3b3-29d3b35cf568"
      },
      "outputs": [
        {
          "data": {
            "text/plain": [
              "1495"
            ]
          },
          "execution_count": 4,
          "metadata": {},
          "output_type": "execute_result"
        }
      ],
      "source": [
        "len(lines)"
      ]
    },
    {
      "cell_type": "code",
      "execution_count": null,
      "metadata": {
        "id": "e9_az4rabGLn"
      },
      "outputs": [],
      "source": [
        "def preprocess_text(text):\n",
        "        # Remove HTML tags\n",
        "        soup = BeautifulSoup(text, 'html.parser')\n",
        "        text = soup.get_text()\n",
        "\n",
        "        p = inflect.engine() #101\n",
        "        demoji.download_codes()\n",
        "        # Remove emojis\n",
        "        text = demoji.replace(text, \"\")\n",
        "\n",
        "        # Remove mentions of \"Human 1\" and \"Human 2\"\n",
        "        text = re.sub(r'\\b(?:Human 1|Human 2)\\b:?', \" \", text)\n",
        "\n",
        "        # Replace numbers with words\n",
        "        text = re.sub(r'\\b\\d+\\b', lambda x: p.number_to_words(x.group()), text)\n",
        "\n",
        "        # Remove special characters, keeping only alphabetic and spaces\n",
        "        text = re.sub('[^a-zA-Z\\s]', ' ', text)\n",
        "\n",
        "        # Replace specific unicode spaces with standard spaces and trim\n",
        "        text = text.replace(u'\\xa0', u' ').replace('\\u200a', ' ').strip()\n",
        "\n",
        "        return text"
      ]
    },
    {
      "cell_type": "code",
      "execution_count": null,
      "metadata": {
        "colab": {
          "base_uri": "https://localhost:8080/"
        },
        "id": "PGUcB_f4bJu4",
        "outputId": "8f49c099-8391-4e0c-b068-3427f9b89d4c"
      },
      "outputs": [
        {
          "name": "stderr",
          "output_type": "stream",
          "text": [
            "<ipython-input-5-77499133746e>:7: FutureWarning: The demoji.download_codes attribute is deprecated and will be removed from demoji in a future version. It is an unused attribute as emoji codes are now distributed directly with the demoji package.\n",
            "  demoji.download_codes()\n",
            "<ipython-input-5-77499133746e>:3: MarkupResemblesLocatorWarning: The input looks more like a filename than markup. You may want to open this file and pass the filehandle into Beautiful Soup.\n",
            "  soup = BeautifulSoup(text, 'html.parser')\n"
          ]
        }
      ],
      "source": [
        "preprocessed_lines = [preprocess_text(line) for line in lines]"
      ]
    },
    {
      "cell_type": "code",
      "execution_count": null,
      "metadata": {
        "colab": {
          "base_uri": "https://localhost:8080/"
        },
        "id": "EBaZLP3FbMop",
        "outputId": "57b5e203-a113-4fb5-bb2a-73fe904268cd"
      },
      "outputs": [
        {
          "data": {
            "text/plain": [
              "['Hi',\n",
              " 'What is your favorite holiday',\n",
              " 'one where I get to meet lots of different people',\n",
              " 'What was the most number of people you have ever met during a holiday',\n",
              " 'Hard to keep a count  Maybe twenty five']"
            ]
          },
          "execution_count": 7,
          "metadata": {},
          "output_type": "execute_result"
        }
      ],
      "source": [
        "preprocessed_lines[0:5]"
      ]
    },
    {
      "cell_type": "markdown",
      "metadata": {
        "id": "oqbzwm2fwO1r"
      },
      "source": [
        "# Torchtext\n",
        "Torchtext is a library within the PyTorch ecosystem designed to facilitate the preprocessing of textual data.\n",
        "\n",
        "## get_tokenizer\n",
        ". The get_tokenizer function is one of the core utilities provided by torchtext for tokenizing text data.\n",
        "\n",
        ". get_tokenizer retrieves a tokenizer function based on the method specified. This tokenizer can then be used to convert strings of text into lists of tokens.\n",
        "##Parameters\n",
        "  \n",
        "  tokenizer: This argument specifies the type of tokenizer to use. You can specify built-in tokenizers such as \"basic_english\", \"spacy\", \"moses\", or even provide a custom tokenizer function.\n",
        "\n",
        "  language: Some tokenizers, like those based on the Moses or Spacy libraries, might require you to specify the language of the text, which influences how the text is tokenized (e.g., handling language-specific punctuation and splitting rules)."
      ]
    },
    {
      "cell_type": "code",
      "execution_count": null,
      "metadata": {
        "id": "Wr5RmwRswRHH"
      },
      "outputs": [],
      "source": [
        "tokenizer = get_tokenizer('basic_english')\n",
        "tokenized_conv = [tokenizer(conv) for conv in preprocessed_lines]"
      ]
    },
    {
      "cell_type": "code",
      "execution_count": null,
      "metadata": {
        "colab": {
          "base_uri": "https://localhost:8080/"
        },
        "id": "0RuIAxzmwTFV",
        "outputId": "25de4374-8740-46db-8063-4edd0721c2f1"
      },
      "outputs": [
        {
          "data": {
            "text/plain": [
              "['what',\n",
              " 'was',\n",
              " 'the',\n",
              " 'most',\n",
              " 'number',\n",
              " 'of',\n",
              " 'people',\n",
              " 'you',\n",
              " 'have',\n",
              " 'ever',\n",
              " 'met',\n",
              " 'during',\n",
              " 'a',\n",
              " 'holiday']"
            ]
          },
          "execution_count": 9,
          "metadata": {},
          "output_type": "execute_result"
        }
      ],
      "source": [
        "tokenized_conv[3]"
      ]
    },
    {
      "cell_type": "markdown",
      "metadata": {
        "id": "fD2hdm9iwVVI"
      },
      "source": [
        "## build_vocab_from_iterator\n",
        "`build_vocab_from_iterator` function in the torchtext.vocab module is used to create a vocabulary from an iterable of tokenized data. This vocabulary is essential for converting textual data into numerical form.\n",
        "\n",
        "#Parameters:\n",
        "##tokenized_conv (iterator):\n",
        "This is the main data input to the function. It should be an iterator (like a `generator` or a `list`) that yields sequences of tokens. Each sequence represents a document or an example in your dataset.\n",
        "##min_freq (int, optional):\n",
        " This parameter specifies the minimum frequency a token must have to be included in the vocabulary. Tokens that appear fewer than min_freq times are excluded from the vocabulary. This is useful for removing rare words which might be typos or irrelevant to most analyses.\n",
        "##specials (list of str, optional):\n",
        " This is a list of special tokens that you want to add to the vocabulary. Common special tokens include:\n",
        "'<pad>': A padding token used to equalize the lengths of sequences.\n",
        "'<oov>' (or '<unk>' for \"unknown\"): A token used to represent out-of-vocabulary words during inference, or when a word appears that is not in the training vocabulary.\n",
        "##special_first (bool, optional):\n",
        " Determines the ordering of special tokens in the vocabulary. If True, special tokens are added at the beginning of the vocabulary. This can be helpful for certain models where token indices are significant (e.g., models using embedding layers might have specific handling for lower indices)."
      ]
    },
    {
      "cell_type": "code",
      "execution_count": null,
      "metadata": {
        "id": "rtdXWFoBwZjY"
      },
      "outputs": [],
      "source": [
        "features_vocab = torchtext.vocab.build_vocab_from_iterator(\n",
        "    tokenized_conv,\n",
        "    min_freq=1,\n",
        "    specials=['<pad>', '<oov>'],\n",
        "    special_first=True\n",
        ")\n",
        "target_vocab = torchtext.vocab.build_vocab_from_iterator(\n",
        "    tokenized_conv,\n",
        "    min_freq=1\n",
        ")"
      ]
    },
    {
      "cell_type": "code",
      "execution_count": null,
      "metadata": {
        "id": "mikc89ocwc_Y"
      },
      "outputs": [],
      "source": [
        "features_vocab_total_words = len(features_vocab)\n",
        "target_vocab_total_words = len(target_vocab)"
      ]
    },
    {
      "cell_type": "code",
      "execution_count": null,
      "metadata": {
        "colab": {
          "base_uri": "https://localhost:8080/"
        },
        "id": "kuq5lEoHwe3s",
        "outputId": "933f2a05-572a-4288-9518-4a9037bea0df"
      },
      "outputs": [
        {
          "name": "stdout",
          "output_type": "stream",
          "text": [
            "Features Vocab Length 2749\n",
            "Target_vocab_Length 2747\n"
          ]
        }
      ],
      "source": [
        "print(\"Features Vocab Length\", features_vocab_total_words)\n",
        "print(\"Target_vocab_Length\", target_vocab_total_words)"
      ]
    },
    {
      "cell_type": "code",
      "execution_count": null,
      "metadata": {
        "id": "6Y4KNZFQwgyY"
      },
      "outputs": [],
      "source": [
        "# making ngrams from the conversations\n",
        "def make_ngrams(tokenized_text):\n",
        "    list_ngrams = []\n",
        "    for i in range(1, len(tokenized_text)):\n",
        "        ngram_sequence = tokenized_text[:i+1]\n",
        "        list_ngrams.append(ngram_sequence)\n",
        "    return list_ngrams"
      ]
    },
    {
      "cell_type": "code",
      "execution_count": null,
      "metadata": {
        "id": "-nZKnR3Bwizp"
      },
      "outputs": [],
      "source": [
        "ngrams_list = []\n",
        "for tokenized_con in tokenized_conv:\n",
        "    ngrams_list.extend(make_ngrams(tokenized_con))"
      ]
    },
    {
      "cell_type": "code",
      "execution_count": null,
      "metadata": {
        "id": "0VqZ7h8KwknR"
      },
      "outputs": [],
      "source": [
        "# Add Random oov tokens to let the model handle oov tokens\n",
        "def add_random_oov_tokens(ngram):\n",
        "    for idx, word in enumerate(ngram[:-1]):\n",
        "        if random.uniform(0, 1) < 0.1:\n",
        "            ngram[idx] = '<oov>'\n",
        "    return ngram"
      ]
    },
    {
      "cell_type": "code",
      "execution_count": null,
      "metadata": {
        "colab": {
          "base_uri": "https://localhost:8080/"
        },
        "id": "6A7gOnVpwmml",
        "outputId": "17ff7dd0-08cc-4276-8c6c-bb3fbcf6fb3a"
      },
      "outputs": [
        {
          "name": "stdout",
          "output_type": "stream",
          "text": [
            "True\n"
          ]
        }
      ],
      "source": [
        "ngrams_list_oov = []\n",
        "for ngram in ngrams_list:\n",
        "    ngrams_list_oov.append(add_random_oov_tokens(ngram))\n",
        "print(any('<oov>' in ngram for ngram in ngrams_list_oov))"
      ]
    },
    {
      "cell_type": "markdown",
      "metadata": {
        "id": "o5QS4mtSwoo-"
      },
      "source": [
        "`get_itos`: stands for \"index-to-string\". The method returns a list where the indices in the list correspond to the numerical indices used in your model, and the values at those indices are the actual string representations (tokens)."
      ]
    },
    {
      "cell_type": "code",
      "execution_count": null,
      "metadata": {
        "id": "f99n3AOuwrZC"
      },
      "outputs": [],
      "source": [
        "def text_to_numerical_sequence(tokenized_text):\n",
        "    tokens_list = []\n",
        "    if tokenized_text[-1] in target_vocab.get_itos():\n",
        "        for token in tokenized_text[:-1]:\n",
        "            num_token = features_vocab[token] if token in features_vocab.get_itos() else features_vocab['<oov>']\n",
        "            tokens_list.append(num_token)\n",
        "        num_token = target_vocab[tokenized_text[-1]]\n",
        "        tokens_list.append(num_token)\n",
        "        return tokens_list\n",
        "    return None"
      ]
    },
    {
      "cell_type": "code",
      "execution_count": null,
      "metadata": {
        "id": "u4bn3EvYw4Az"
      },
      "outputs": [],
      "source": [
        "input_sequences = [text_to_numerical_sequence(sequence) for sequence in ngrams_list_oov if text_to_numerical_sequence(sequence)]"
      ]
    },
    {
      "cell_type": "code",
      "execution_count": null,
      "metadata": {
        "colab": {
          "base_uri": "https://localhost:8080/"
        },
        "id": "qD1tAY-rw5sq",
        "outputId": "2cfcc289-cba4-4c33-d7fd-3004b2ba41d8"
      },
      "outputs": [
        {
          "name": "stdout",
          "output_type": "stream",
          "text": [
            "Total input sequences: 18562\n",
            "[[56, 90, 1, 73, 2], [56, 90, 2, 73, 4, 228]]\n"
          ]
        }
      ],
      "source": [
        "print(f'Total input sequences: {len(input_sequences)}')\n",
        "print(input_sequences[7:9])"
      ]
    },
    {
      "cell_type": "code",
      "execution_count": null,
      "metadata": {
        "colab": {
          "base_uri": "https://localhost:8080/"
        },
        "id": "k8F9FD8pw7dx",
        "outputId": "b77ad6e0-431f-4184-ccac-547d3e51942a"
      },
      "outputs": [
        {
          "data": {
            "text/plain": [
              "(1, 11)"
            ]
          },
          "execution_count": 20,
          "metadata": {},
          "output_type": "execute_result"
        }
      ],
      "source": [
        "X = [sequence[:-1] for sequence in input_sequences]\n",
        "y = [sequence[-1] for sequence in input_sequences]\n",
        "len(X[0]), y[0]"
      ]
    },
    {
      "cell_type": "code",
      "execution_count": null,
      "metadata": {
        "colab": {
          "base_uri": "https://localhost:8080/"
        },
        "id": "i9cstHEIw9NI",
        "outputId": "09de39d0-a3f0-444b-a166-3020adb29631"
      },
      "outputs": [
        {
          "name": "stdout",
          "output_type": "stream",
          "text": [
            "[12, 13, 29, 120] 312\n"
          ]
        }
      ],
      "source": [
        "print(X[3],y[3])"
      ]
    },
    {
      "cell_type": "code",
      "execution_count": null,
      "metadata": {
        "colab": {
          "base_uri": "https://localhost:8080/"
        },
        "id": "pBMr6Zcdw-2E",
        "outputId": "f109b697-a954-4637-b6d0-986137fcc45d"
      },
      "outputs": [
        {
          "data": {
            "text/plain": [
              "153"
            ]
          },
          "execution_count": 22,
          "metadata": {},
          "output_type": "execute_result"
        }
      ],
      "source": [
        "longest_sequence_feature = max(len(sequence) for sequence in X)\n",
        "longest_sequence_feature"
      ]
    },
    {
      "cell_type": "markdown",
      "metadata": {
        "id": "M2eJKPZ1xDkb"
      },
      "source": [
        "`F.pad` function is a utility function which is part of torch.nn.functional module,used for padding tensors.\n",
        "# Parameters:\n",
        "##input (torch.tensor):\n",
        "The tensor to be padded.\n",
        "##pad (tuple of ints):\n",
        "The number of values padded to the edges of each dimension. The tuple should contain pairs where each pair is the number of values added to the left and right of the dimension, respectively.\n",
        "##value (scalar, optional):\n",
        "The constant value used for constant padding. If the mode is 'constant' but no value is specified, it defaults to 0."
      ]
    },
    {
      "cell_type": "code",
      "execution_count": null,
      "metadata": {
        "colab": {
          "base_uri": "https://localhost:8080/"
        },
        "id": "piBxwj-UxBjG",
        "outputId": "057b9631-ac28-4468-8835-3975e99698aa"
      },
      "outputs": [
        {
          "data": {
            "text/plain": [
              "(tensor([ 0,  0,  0,  0,  0,  0,  0,  0,  0,  0,  0,  0,  0,  0,  0,  0,  0,  0,\n",
              "          0,  0,  0,  0,  0,  0,  0,  0,  0,  0,  0,  0,  0,  0,  0,  0,  0,  0,\n",
              "          0,  0,  0,  0,  0,  0,  0,  0,  0,  0,  0,  0,  0,  0,  0,  0,  0,  0,\n",
              "          0,  0,  0,  0,  0,  0,  0,  0,  0,  0,  0,  0,  0,  0,  0,  0,  0,  0,\n",
              "          0,  0,  0,  0,  0,  0,  0,  0,  0,  0,  0,  0,  0,  0,  0,  0,  0,  0,\n",
              "          0,  0,  0,  0,  0,  0,  0,  0,  0,  0,  0,  0,  0,  0,  0,  0,  0,  0,\n",
              "          0,  0,  0,  0,  0,  0,  0,  0,  0,  0,  0,  0,  0,  0,  0,  0,  0,  0,\n",
              "          0,  0,  0,  0,  0,  0,  0,  0,  0,  0,  0,  0,  0,  0,  0,  0,  0,  0,\n",
              "          0,  0,  0,  0,  0,  0,  0, 12, 13]),\n",
              " [12, 13, 29],\n",
              " 153)"
            ]
          },
          "execution_count": 23,
          "metadata": {},
          "output_type": "execute_result"
        }
      ],
      "source": [
        "padded_X = [F.pad(torch.tensor(sequence), (longest_sequence_feature - len(sequence),0), value=0) for sequence in X]\n",
        "padded_X[1], X[2], len(padded_X[1])"
      ]
    },
    {
      "cell_type": "code",
      "execution_count": null,
      "metadata": {
        "colab": {
          "base_uri": "https://localhost:8080/"
        },
        "id": "AMgLoaKlxJlX",
        "outputId": "bd0bb885-0456-40f7-f745-f204b8b74492"
      },
      "outputs": [
        {
          "data": {
            "text/plain": [
              "(torch.Tensor, torch.Tensor)"
            ]
          },
          "execution_count": 24,
          "metadata": {},
          "output_type": "execute_result"
        }
      ],
      "source": [
        "padded_X = torch.stack(padded_X)\n",
        "y = torch.tensor(y)\n",
        "type(y), type(padded_X)"
      ]
    },
    {
      "cell_type": "code",
      "execution_count": null,
      "metadata": {
        "id": "DJI0mV8sxLWm"
      },
      "outputs": [],
      "source": [
        "y_one_hot = one_hot(y, num_classes=target_vocab_total_words)"
      ]
    },
    {
      "cell_type": "markdown",
      "metadata": {
        "id": "G-w-Rq75xNcx"
      },
      "source": [
        "# TensorDataset\n",
        "`TensorDataset` is a subclass of `Dataset` that is specifically designed to handle scenarios where all data are already in the form of tensors. It wraps tensors, allowing you to access slices of these tensors as individual samples.\n",
        "\n",
        " It's particularly useful when your entire dataset is small enough to fit into memory, and you have pre-processed all of your input and target data into tensors. It simplifies the data loading during training when using a DataLoader since all data is already in tensor form and does not require further transformation or loading steps during the batch generation."
      ]
    },
    {
      "cell_type": "code",
      "execution_count": null,
      "metadata": {
        "id": "e4foZfRKxPu3"
      },
      "outputs": [],
      "source": [
        "data = TensorDataset(padded_X, y_one_hot)"
      ]
    },
    {
      "cell_type": "code",
      "execution_count": null,
      "metadata": {
        "id": "MHeXnbcPxRct"
      },
      "outputs": [],
      "source": [
        "train_size = int(0.8 * len(data))\n",
        "test_size = len(data) - train_size\n",
        "batch_size = 32"
      ]
    },
    {
      "cell_type": "code",
      "execution_count": null,
      "metadata": {
        "id": "T99cXxccxUFs"
      },
      "outputs": [],
      "source": [
        "train_data, test_data = random_split(data, [train_size, test_size])"
      ]
    },
    {
      "cell_type": "code",
      "execution_count": null,
      "metadata": {
        "id": "hC4TPUdYxWIp"
      },
      "outputs": [],
      "source": [
        "train_loader = DataLoader(train_data, batch_size=batch_size, shuffle=True)\n",
        "test_loader = DataLoader(test_data, batch_size=batch_size, shuffle=False)"
      ]
    },
    {
      "cell_type": "code",
      "execution_count": null,
      "metadata": {
        "id": "76XVhWJ7xX-n"
      },
      "outputs": [],
      "source": [
        "class My_BiLSTM(nn.Module):\n",
        "    def __init__(self, features_vocab_total_words, target_vocab_total_words, embedding_dim, hidden_dim):\n",
        "        super(My_BiLSTM, self).__init__()\n",
        "        self.embedding = nn.Embedding(features_vocab_total_words, embedding_dim)\n",
        "        self.lstm = nn.LSTM(embedding_dim, hidden_dim, batch_first=True, bidirectional=True)\n",
        "        self.dropout = nn.Dropout(0.5)\n",
        "        self.fc = nn.Linear(hidden_dim * 2, target_vocab_total_words)\n",
        "\n",
        "    def forward(self, x):\n",
        "        x = x.to(self.embedding.weight.device)\n",
        "        embedded = self.embedding(x)\n",
        "        lstm_out, _ = self.lstm(embedded)\n",
        "        lstm_out = self.dropout(lstm_out)\n",
        "        # Since the LSTM is bidirectional, we concatenate the last hidden state of the forward direction\n",
        "        # and the first hidden state of the backward direction before passing it to the fully connected layer\n",
        "        # For batch_first=True, the last timestep of the forward direction is lstm_out[:, -1, :hidden_dim]\n",
        "        # and the first timestep of the backward direction is lstm_out[:, 0, hidden_dim:]\n",
        "        output = self.fc(torch.cat((lstm_out[:, -1, :hidden_dim], lstm_out[:, 0, hidden_dim:]), dim=1))\n",
        "        return output"
      ]
    },
    {
      "cell_type": "code",
      "execution_count": null,
      "metadata": {
        "id": "p_VmYe-NxZ8V"
      },
      "outputs": [],
      "source": [
        "features_vocab_total_words = 2749\n",
        "target_vocab_total_words = 2747\n",
        "embedding_dim = 128\n",
        "hidden_dim = 200\n",
        "epochs = 50"
      ]
    },
    {
      "cell_type": "code",
      "execution_count": null,
      "metadata": {
        "id": "eW_s0JYfxcLv"
      },
      "outputs": [],
      "source": [
        "model = My_BiLSTM(features_vocab_total_words, target_vocab_total_words, embedding_dim=embedding_dim, hidden_dim=hidden_dim)"
      ]
    },
    {
      "cell_type": "code",
      "execution_count": null,
      "metadata": {
        "id": "JK4hbKaOxdrV"
      },
      "outputs": [],
      "source": [
        "criterion = nn.CrossEntropyLoss()\n",
        "optimizer = optim.Adam(model.parameters(), lr=0.0009)"
      ]
    },
    {
      "cell_type": "code",
      "execution_count": null,
      "metadata": {
        "colab": {
          "base_uri": "https://localhost:8080/"
        },
        "id": "NfBCT2FrxgD5",
        "outputId": "062ebbcf-1bb1-4cf8-b906-ed48eddfe1f2"
      },
      "outputs": [
        {
          "data": {
            "text/plain": [
              "device(type='cpu')"
            ]
          },
          "execution_count": 34,
          "metadata": {},
          "output_type": "execute_result"
        }
      ],
      "source": [
        "device = torch.device(\"cuda\" if torch.cuda.is_available() else \"cpu\")\n",
        "device"
      ]
    },
    {
      "cell_type": "code",
      "execution_count": null,
      "metadata": {
        "colab": {
          "base_uri": "https://localhost:8080/"
        },
        "id": "k8YQoZUMxjMS",
        "outputId": "75121a25-ec9d-4870-d5d6-c58c3ecf456e"
      },
      "outputs": [
        {
          "data": {
            "text/plain": [
              "My_BiLSTM(\n",
              "  (embedding): Embedding(2749, 128)\n",
              "  (lstm): LSTM(128, 200, batch_first=True, bidirectional=True)\n",
              "  (dropout): Dropout(p=0.5, inplace=False)\n",
              "  (fc): Linear(in_features=400, out_features=2747, bias=True)\n",
              ")"
            ]
          },
          "execution_count": 35,
          "metadata": {},
          "output_type": "execute_result"
        }
      ],
      "source": [
        "model.to(device)"
      ]
    },
    {
      "cell_type": "code",
      "execution_count": null,
      "metadata": {
        "id": "agUkmLLuxk-F"
      },
      "outputs": [],
      "source": [
        "def calculate_topk_accuracy(model, data_loader, k=3):\n",
        "    model.eval()\n",
        "    correct_predictions = 0\n",
        "    total_predictions = 0\n",
        "\n",
        "    with torch.no_grad():\n",
        "        for batch_x, batch_y in data_loader:\n",
        "            batch_x, batch_y = batch_x.to(device), batch_y.to(device)\n",
        "\n",
        "            # Forward pass\n",
        "            output = model(batch_x)\n",
        "\n",
        "            # Get top-k predictions\n",
        "            _, predicted_indices = output.topk(k, dim=1)\n",
        "\n",
        "            # Check if the correct label is in the top-k predictions\n",
        "            correct_predictions += torch.any(predicted_indices == torch.argmax(batch_y, dim=1, keepdim=True), dim=1).sum().item()\n",
        "            total_predictions += batch_y.size(0)\n",
        "\n",
        "    accuracy = correct_predictions / total_predictions\n",
        "    return accuracy"
      ]
    },
    {
      "cell_type": "code",
      "execution_count": null,
      "metadata": {
        "colab": {
          "background_save": true,
          "base_uri": "https://localhost:8080/"
        },
        "id": "jQmd07NtxnLB",
        "outputId": "ddacd378-8c5e-46e3-ced3-2b1d83fcf11b"
      },
      "outputs": [
        {
          "name": "stdout",
          "output_type": "stream",
          "text": [
            "Epoch 0/50, Loss: 0.8474, Train K-Accuracy: 91.72%\n",
            "Epoch 5/50, Loss: 7.5094, Train K-Accuracy: 94.24%\n",
            "Epoch 10/50, Loss: 0.1059, Train K-Accuracy: 95.13%\n",
            "Epoch 15/50, Loss: 0.0236, Train K-Accuracy: 95.49%\n",
            "Epoch 20/50, Loss: 0.0093, Train K-Accuracy: 95.62%\n",
            "Epoch 25/50, Loss: 0.0012, Train K-Accuracy: 95.73%\n",
            "Epoch 30/50, Loss: 0.0382, Train K-Accuracy: 95.76%\n",
            "Epoch 35/50, Loss: 0.0078, Train K-Accuracy: 95.82%\n",
            "Epoch 40/50, Loss: 0.1411, Train K-Accuracy: 95.87%\n",
            "Epoch 45/50, Loss: 0.0010, Train K-Accuracy: 95.84%\n"
          ]
        }
      ],
      "source": [
        "all_accuracies = []\n",
        "all_losses = []\n",
        "for epoch in range(epochs):\n",
        "    model.train()\n",
        "    for batch_X, batch_y in train_loader:\n",
        "        batch_X, batch_y = batch_X.to(device), batch_y.to(device)\n",
        "        optimizer.zero_grad()\n",
        "        outputs = model(batch_X)\n",
        "        loss = criterion(outputs, batch_y.argmax(dim=1))\n",
        "        loss.backward()\n",
        "        optimizer.step()\n",
        "\n",
        "    if epoch % 5 == 0:\n",
        "        accuracy = calculate_topk_accuracy(model, train_loader)\n",
        "        print(f'Epoch {epoch}/{epochs}, Loss: {loss.item():.4f}, Train K-Accuracy: {accuracy * 100:.2f}%')\n",
        "        all_accuracies.append(accuracy)\n",
        "        all_losses.append(loss.item())"
      ]
    },
    {
      "cell_type": "code",
      "execution_count": 39,
      "metadata": {
        "id": "L5YC6FumxpAi",
        "colab": {
          "base_uri": "https://localhost:8080/",
          "height": 407
        },
        "outputId": "a3dc03e2-5fa1-4398-9eff-5fc26d768205"
      },
      "outputs": [
        {
          "output_type": "display_data",
          "data": {
            "text/plain": [
              "<Figure size 800x400 with 2 Axes>"
            ],
            "image/png": "[encoded data removed]"
          },
          "metadata": {}
        }
      ],
      "source": [
        "epoch_list = [i for i in range(1,epochs,5)]\n",
        "\n",
        "fig, axes = plt.subplots(nrows=1, ncols=2, figsize=(8, 4))\n",
        "\n",
        "axes[0].plot(epoch_list, all_accuracies, color='#5a7da9', label='Accuracy', linewidth=3)\n",
        "axes[0].set_xlabel('Epochs')\n",
        "axes[0].set_ylabel('Accuracy')\n",
        "axes[0].set_title('Accuracy Graph')\n",
        "axes[0].grid(True)\n",
        "\n",
        "axes[1].plot(epoch_list, all_losses, color='#adad3b', label='Accuracy', linewidth=3)\n",
        "axes[1].set_xlabel('Epochs')\n",
        "axes[1].set_ylabel('Loss')\n",
        "axes[1].set_title('Loss Graph')\n",
        "axes[1].grid(True)\n",
        "\n",
        "plt.tight_layout()\n",
        "plt.show()"
      ]
    },
    {
      "cell_type": "code",
      "execution_count": 40,
      "metadata": {
        "id": "1seDtGpZxrHJ",
        "colab": {
          "base_uri": "https://localhost:8080/"
        },
        "outputId": "a7da0846-fcfd-45a9-edeb-d8bef9ccf60e"
      },
      "outputs": [
        {
          "output_type": "stream",
          "name": "stdout",
          "text": [
            "Test K-Accuracy: 19.23%\n"
          ]
        }
      ],
      "source": [
        "accuracy = calculate_topk_accuracy(model, test_loader)\n",
        "print(f'Test K-Accuracy: {accuracy * 100:.2f}%')"
      ]
    },
    {
      "cell_type": "code",
      "execution_count": null,
      "metadata": {
        "id": "m859kArJxwLz"
      },
      "outputs": [],
      "source": [
        "model_path = '/content/drive/MyDrive/CampusX_Lecture/Day_3/my_bilstm_model.pth'\n",
        "torch.save(model.state_dict(), model_path)\n",
        "print(f'Model saved to {model_path}')"
      ]
    },
    {
      "cell_type": "code",
      "execution_count": null,
      "metadata": {
        "id": "y9kWJzsGxx-v"
      },
      "outputs": [],
      "source": [
        "model_path = '/content/drive/MyDrive/CampusX_Lecture/Day_3/my_bilstm_model.pth'\n",
        "torch.save(model, model_path)\n",
        "print(f'Model saved to {model_path}')"
      ]
    },
    {
      "cell_type": "code",
      "execution_count": null,
      "metadata": {
        "id": "UOIh4lY0xzuH"
      },
      "outputs": [],
      "source": [
        "class BiLSTM(nn.Module):\n",
        "    def __init__(self, features_vocab_total_words, target_vocab_total_words, embedding_dim, hidden_dim):\n",
        "        super(BiLSTM, self).__init__()\n",
        "        self.embedding = nn.Embedding(features_vocab_total_words, embedding_dim)\n",
        "        self.lstm = nn.LSTM(embedding_dim, hidden_dim, batch_first=True, bidirectional=True)\n",
        "        self.dropout = nn.Dropout(0.5)\n",
        "        self.fc = nn.Linear(hidden_dim * 2, target_vocab_total_words)\n",
        "\n",
        "    def forward(self, x):\n",
        "        x = x.to(self.embedding.weight.device)\n",
        "        embedded = self.embedding(x)\n",
        "        lstm_out, _ = self.lstm(embedded)\n",
        "        lstm_out = self.dropout(lstm_out)\n",
        "        # Since the LSTM is bidirectional, we concatenate the last hidden state of the forward direction\n",
        "        # and the first hidden state of the backward direction before passing it to the fully connected layer\n",
        "        # For batch_first=True, the last timestep of the forward direction is lstm_out[:, -1, :hidden_dim]\n",
        "        # and the first timestep of the backward direction is lstm_out[:, 0, hidden_dim:]\n",
        "        output = self.fc(torch.cat((lstm_out[:, -1, :hidden_dim], lstm_out[:, 0, hidden_dim:]), dim=1))\n",
        "        return output"
      ]
    },
    {
      "cell_type": "code",
      "execution_count": null,
      "metadata": {
        "id": "0yMF9O7Sx5ya"
      },
      "outputs": [],
      "source": [
        "features_vocab_total_words = 2749\n",
        "target_vocab_total_words = 2747\n",
        "embedding_dim = 128\n",
        "hidden_dim = 200\n",
        "saved_model = BiLSTM(features_vocab_total_words, target_vocab_total_words, embedding_dim, hidden_dim)"
      ]
    },
    {
      "cell_type": "code",
      "execution_count": null,
      "metadata": {
        "id": "Drdxn65nx7kt"
      },
      "outputs": [],
      "source": [
        "model_path = '/content/drive/MyDrive/CampusX_Lecture/Day_3/my_bilstm_model.pth'\n",
        "saved_model.load_state_dict(torch.load(model_path))"
      ]
    },
    {
      "cell_type": "code",
      "execution_count": null,
      "metadata": {
        "id": "FrfRm4Inx9rA"
      },
      "outputs": [],
      "source": [
        "def text_to_numerical_sequence_test(tokenized_text):\n",
        "    tokens_list = []\n",
        "    for token in tokenized_text:\n",
        "        num_token = features_vocab[token] if token in features_vocab.get_itos() else features_vocab['<oov>']\n",
        "        tokens_list.append(num_token)\n",
        "    return tokens_list"
      ]
    },
    {
      "cell_type": "code",
      "execution_count": null,
      "metadata": {
        "id": "Nujkf4I8x_Vm"
      },
      "outputs": [],
      "source": [
        "def use_model(input_list, top_k=5):\n",
        "    saved_model.eval()\n",
        "    output_list = []\n",
        "    for data in input_list:\n",
        "        sentence = data[0]\n",
        "        num_words = data[1]\n",
        "        for i in range(num_words):\n",
        "            output_of_model = []\n",
        "            tokenized_input_test = tokenizer(sentence)\n",
        "            tokenized_sequence_input_test = text_to_numerical_sequence_test(tokenized_input_test)\n",
        "            padded_tokenized_sequence_input_test = F.pad(torch.tensor(tokenized_sequence_input_test),\n",
        "                                                         (longest_sequence_feature - len(tokenized_sequence_input_test)-1, 0),\n",
        "                                                         value=0)\n",
        "            output_test_walking = model(padded_tokenized_sequence_input_test.unsqueeze(0))\n",
        "            # Get the top k predictions and their indices\n",
        "            top_predictions = torch.topk(output_test_walking, top_k)\n",
        "            # Iterate over the top predictions\n",
        "            for index in top_predictions.indices.squeeze():\n",
        "                # Lookup the token for each index and append it to the output sentence\n",
        "                sentence_with_predictions = sentence + ' ' + target_vocab.lookup_token(index.item())\n",
        "                output_list.append(sentence_with_predictions)\n",
        "        # Update the input sentence with the last predicted word\n",
        "        sentence = output_list[-1]\n",
        "    return output_list"
      ]
    },
    {
      "cell_type": "code",
      "execution_count": null,
      "metadata": {
        "id": "b7sm1L1uyB38"
      },
      "outputs": [],
      "source": [
        "input_test = [['Hi', 1], ['Hello', 1]]"
      ]
    },
    {
      "cell_type": "code",
      "execution_count": null,
      "metadata": {
        "id": "1ANd0J8tyDMr"
      },
      "outputs": [],
      "source": [
        "outputs_model = use_model(input_test,5)\n",
        "outputs_model"
      ]
    },
    {
      "cell_type": "markdown",
      "metadata": {
        "id": "jqYvE5jxyGE2"
      },
      "source": [
        "## Code in Format of Classes"
      ]
    },
    {
      "cell_type": "code",
      "execution_count": null,
      "metadata": {
        "id": "L8Jg0OtbyH2V"
      },
      "outputs": [],
      "source": [
        "class TextProcessor:\n",
        "    def __init__(self, file_path):\n",
        "        self.file_path = file_path\n",
        "        self.p = inflect.engine()\n",
        "        demoji.download_codes()\n",
        "\n",
        "    def read_file(self):\n",
        "        with open(self.file_path, \"r\") as file:\n",
        "            return file.readlines()\n",
        "\n",
        "    def preprocess_text(self, text):\n",
        "        # Remove HTML tags\n",
        "        soup = BeautifulSoup(text, 'html.parser')\n",
        "        text = soup.get_text()\n",
        "\n",
        "        # Remove emojis\n",
        "        text = demoji.replace(text, \"\")\n",
        "\n",
        "        # Remove mentions of \"Human 1\" and \"Human 2\"\n",
        "        text = re.sub(r'\\b(?:Human 1|Human 2)\\b:?', \" \", text)\n",
        "\n",
        "        # Replace numbers with words\n",
        "        text = re.sub(r'\\b\\d+\\b', lambda x: self.p.number_to_words(x.group()), text)\n",
        "\n",
        "        # Remove special characters, keeping only alphabetic and spaces\n",
        "        text = re.sub('[^a-zA-Z\\s]', ' ', text)\n",
        "\n",
        "        # Replace specific unicode spaces with standard spaces and trim\n",
        "        text = text.replace(u'\\xa0', u' ').replace('\\u200a', ' ').strip()\n",
        "\n",
        "        return text\n",
        "\n",
        "    def preprocess_lines(self):\n",
        "        lines = self.read_file()\n",
        "        preprocessed_lines = [self.preprocess_text(line) for line in lines]\n",
        "        return preprocessed_lines"
      ]
    },
    {
      "cell_type": "code",
      "execution_count": null,
      "metadata": {
        "id": "Q4Pvo7IvyKFP"
      },
      "outputs": [],
      "source": [
        "file_path = \"/content/drive/MyDrive/human_chat.txt\"\n",
        "\n",
        "processor = TextProcessor(file_path)\n",
        "preprocessed_lines = processor.preprocess_lines()"
      ]
    },
    {
      "cell_type": "code",
      "execution_count": null,
      "metadata": {
        "id": "gSlJkZcHyL5H"
      },
      "outputs": [],
      "source": [
        "class TextTokenizerAndVectorizer:\n",
        "    def __init__(self, conversations, oov_rate=0.1, specials=['<pad>', '<oov>']):\n",
        "        self.tokenizer = get_tokenizer('basic_english')\n",
        "        self.conversations = conversations\n",
        "        self.oov_rate = oov_rate\n",
        "        self.specials = specials\n",
        "        self.tokenized_text = [self.tokenizer(conv) for conv in conversations]\n",
        "        self.features_vocab = self.build_vocab(special_first=True)\n",
        "        self.target_vocab = self.build_vocab(special_first=False)\n",
        "        self.num_classes = len(self.target_vocab)\n",
        "\n",
        "    def build_vocab(self, special_first=True):\n",
        "        specials = self.specials if special_first else []\n",
        "        return build_vocab_from_iterator(\n",
        "            self.tokenized_text,\n",
        "            min_freq=1,\n",
        "            specials=specials,\n",
        "            special_first=special_first\n",
        "        )\n",
        "\n",
        "    def make_ngrams(self, text):\n",
        "        ngrams = []\n",
        "        for i in range(1, len(text)):\n",
        "            ngram_sequence = text[:i+1]\n",
        "            ngrams.append(ngram_sequence)\n",
        "        return ngrams\n",
        "\n",
        "    def add_random_oov_tokens(self, ngram):\n",
        "        for idx, word in enumerate(ngram[:-1]):\n",
        "            if random.uniform(0, 1) < self.oov_rate:\n",
        "                ngram[idx] = '<oov>'\n",
        "        return ngram\n",
        "\n",
        "    def text_to_numerical_sequence(self, tokenized_text):\n",
        "        tokens_list = []\n",
        "        if tokenized_text[-1] in self.target_vocab.get_itos():\n",
        "            for token in tokenized_text[:-1]:\n",
        "                num_token = self.features_vocab[token] if token in self.features_vocab.get_itos() else self.features_vocab['<oov>']\n",
        "                tokens_list.append(num_token)\n",
        "            num_token = self.target_vocab[tokenized_text[-1]]\n",
        "            tokens_list.append(num_token)\n",
        "            return tokens_list\n",
        "        return None\n",
        "\n",
        "    def process_text(self):\n",
        "        ngrams_list = [ngram for text in self.tokenized_text for ngram in self.make_ngrams(text)]\n",
        "        ngrams_list_oov = [self.add_random_oov_tokens(ngram) for ngram in ngrams_list]\n",
        "        input_sequences = [self.text_to_numerical_sequence(seq) for seq in ngrams_list_oov if self.text_to_numerical_sequence(seq)]\n",
        "\n",
        "        X = [seq[:-1] for seq in input_sequences]\n",
        "        y = [seq[-1] for seq in input_sequences]\n",
        "        longest_sequence_feature = max(len(seq) for seq in X)\n",
        "\n",
        "        padded_X = torch.stack([F.pad(torch.tensor(seq), (longest_sequence_feature - len(seq),0), value=self.features_vocab['<pad>']) for seq in X])\n",
        "        y = torch.tensor(y)\n",
        "        y_one_hot = one_hot(y, num_classes=self.num_classes)\n",
        "\n",
        "        return padded_X, y_one_hot, len(self.features_vocab), len(self.target_vocab)"
      ]
    },
    {
      "cell_type": "code",
      "execution_count": null,
      "metadata": {
        "id": "gwmIn18XyOJz"
      },
      "outputs": [],
      "source": [
        "txt_processor = TextTokenizerAndVectorizer(preprocessed_lines)\n",
        "X, y, features_vocab_total_words, target_vocab_total_words = txt_processor.process_text()"
      ]
    },
    {
      "cell_type": "code",
      "execution_count": null,
      "metadata": {
        "id": "He-yLAXMyP2K"
      },
      "outputs": [],
      "source": [
        "# Assuming X and y are your features and targets tensors respectively\n",
        "data = TensorDataset(X, y)\n",
        "\n",
        "# Calculate split sizes\n",
        "total_size = len(data)\n",
        "train_size = int(0.70 * total_size)\n",
        "val_size = int(0.15 * total_size)\n",
        "test_size = total_size - train_size - val_size  # Ensure the sum of splits equals total_size\n",
        "\n",
        "# Split the dataset\n",
        "train_data, val_data, test_data = random_split(data, [train_size, val_size, test_size])\n",
        "\n",
        "# Define batch size\n",
        "batch_size = 32\n",
        "\n",
        "# Create DataLoaders\n",
        "train_loader = DataLoader(train_data, batch_size=batch_size, shuffle=True)\n",
        "val_loader = DataLoader(val_data, batch_size=batch_size, shuffle=False)\n",
        "test_loader = DataLoader(test_data, batch_size=batch_size, shuffle=False)"
      ]
    },
    {
      "cell_type": "code",
      "execution_count": null,
      "metadata": {
        "id": "3H-2hAElyRvu"
      },
      "outputs": [],
      "source": [
        "class My_BiLSTM(nn.Module):\n",
        "    def __init__(self, features_vocab_total_words, target_vocab_total_words, embedding_dim, hidden_dim):\n",
        "        super(My_BiLSTM, self).__init__()\n",
        "        self.embedding = nn.Embedding(features_vocab_total_words, embedding_dim)\n",
        "        # Specify bidirectional=True to use a BiLSTM\n",
        "        self.lstm = nn.LSTM(embedding_dim, hidden_dim, batch_first=True, bidirectional=True)\n",
        "        self.dropout = nn.Dropout(0.5)\n",
        "        # Since it's bidirectional, concatenate the hidden states from both directions\n",
        "        self.fc = nn.Linear(hidden_dim * 2, target_vocab_total_words)\n",
        "\n",
        "    def forward(self, x):\n",
        "        x = x.to(self.embedding.weight.device)\n",
        "        embedded = self.embedding(x)\n",
        "        lstm_out, _ = self.lstm(embedded)\n",
        "        lstm_out = self.dropout(lstm_out)\n",
        "        # Since the LSTM is bidirectional, we concatenate the last hidden state of the forward direction\n",
        "        # and the first hidden state of the backward direction before passing it to the fully connected layer\n",
        "        # For batch_first=True, the last timestep of the forward direction is lstm_out[:, -1, :hidden_dim]\n",
        "        # and the first timestep of the backward direction is lstm_out[:, 0, hidden_dim:]\n",
        "        output = self.fc(torch.cat((lstm_out[:, -1, :hidden_dim], lstm_out[:, 0, hidden_dim:]), dim=1))\n",
        "        return output"
      ]
    },
    {
      "cell_type": "code",
      "execution_count": null,
      "metadata": {
        "id": "sFtufd9nyTpS"
      },
      "outputs": [],
      "source": [
        "embedding_dim = 128\n",
        "hidden_dim = 256\n",
        "epochs = 50\n",
        "model = My_BiLSTM(features_vocab_total_words, target_vocab_total_words, embedding_dim=embedding_dim, hidden_dim=hidden_dim)"
      ]
    },
    {
      "cell_type": "code",
      "execution_count": null,
      "metadata": {
        "id": "1AzreeDDyVdY"
      },
      "outputs": [],
      "source": [
        "class BiLSTMTrainer:\n",
        "    def __init__(self, model, train_loader, val_loader=None, epochs=50, lr=0.0009, device=None, k=3, patience=5):\n",
        "        self.model = model\n",
        "        self.train_loader = train_loader\n",
        "        self.val_loader = val_loader\n",
        "        self.epochs = epochs\n",
        "        self.device = device if device else torch.device(\"cuda\" if torch.cuda.is_available() else \"cpu\")\n",
        "        self.model.to(self.device)\n",
        "        self.criterion = nn.CrossEntropyLoss()\n",
        "        self.optimizer = optim.Adam(self.model.parameters(), lr=lr)\n",
        "        self.best_val_loss = float('inf')\n",
        "        self.k = k\n",
        "        self.patience = patience\n",
        "\n",
        "    def calculate_topk_accuracy(self, data_loader):\n",
        "        self.model.eval()\n",
        "        correct_predictions = 0\n",
        "        total_predictions = 0\n",
        "\n",
        "        with torch.no_grad():\n",
        "            for batch_x, batch_y in data_loader:\n",
        "                batch_x, batch_y = batch_x.to(self.device), batch_y.to(self.device)\n",
        "                output = self.model(batch_x)\n",
        "                _, predicted_indices = output.topk(self.k, dim=1)\n",
        "                correct_predictions += torch.any(predicted_indices == torch.argmax(batch_y, dim=1, keepdim=True), dim=1).sum().item()\n",
        "                total_predictions += batch_y.size(0)\n",
        "\n",
        "        accuracy = correct_predictions / total_predictions\n",
        "        return accuracy\n",
        "\n",
        "    def train(self):\n",
        "\n",
        "        train_accuracies = []\n",
        "        val_accuracies = []\n",
        "        train_losses = []\n",
        "        val_losses = []\n",
        "        count = 0\n",
        "\n",
        "        for epoch in range(self.epochs):\n",
        "            self.model.train()\n",
        "            epoch_losses = []\n",
        "            for batch_X, batch_y in self.train_loader:\n",
        "                batch_X, batch_y = batch_X.to(self.device), batch_y.to(self.device)\n",
        "                self.optimizer.zero_grad()\n",
        "                outputs = self.model(batch_X)\n",
        "                loss = self.criterion(outputs, batch_y.argmax(dim=1))\n",
        "                loss.backward()\n",
        "                self.optimizer.step()\n",
        "                epoch_losses.append(loss.item())\n",
        "\n",
        "            avg_loss = sum(epoch_losses) / len(epoch_losses)\n",
        "            train_losses.append(avg_loss)\n",
        "\n",
        "            if self.val_loader:\n",
        "                val_loss = self.validate()\n",
        "                val_losses.append(val_loss)\n",
        "                if val_loss < self.best_val_loss:\n",
        "                    self.best_val_loss = val_loss\n",
        "                    torch.save(model.state_dict(), 'best_model.pth')\n",
        "                    print(f'new best validation loss: {val_loss:.4f}')\n",
        "                    count = 0\n",
        "                else:\n",
        "                    count += 1\n",
        "                    if count > self.patience:\n",
        "                      print(f'Early stopping at epoch {epoch + 1}')\n",
        "                      break  # Early stopping condition\n",
        "\n",
        "            train_accuracy = self.calculate_topk_accuracy(self.train_loader)\n",
        "            val_accuracy = self.calculate_topk_accuracy(self.val_loader)\n",
        "\n",
        "            train_accuracies.append(train_accuracy)\n",
        "            val_accuracies.append(val_accuracy)\n",
        "\n",
        "            if epoch % 5 == 0:\n",
        "                print(f'Epoch {epoch}/{self.epochs} ||Train Loss: {avg_loss:.4f} || Train K-Accuracy: {train_accuracy * 100:.2f}% || Val Loss :{val_loss:.4f} || Validation K-Accuracy: {val_accuracy * 100:.2f}%')\n",
        "\n",
        "        self.plot_results(train_accuracies, train_losses, val_accuracies, val_losses)\n",
        "\n",
        "    def validate(self):\n",
        "        self.model.eval()\n",
        "        val_losses = []\n",
        "        with torch.no_grad():\n",
        "            for batch_x, batch_y in self.val_loader:\n",
        "                batch_x, batch_y = batch_x.to(self.device), batch_y.to(self.device)\n",
        "                outputs = self.model(batch_x)\n",
        "                loss = self.criterion(outputs, batch_y.argmax(dim=1))\n",
        "                val_losses.append(loss.item())\n",
        "        return sum(val_losses) / len(val_losses)\n",
        "\n",
        "    def plot_results(self, train_accuracies, train_losses, val_accuracies, val_losses):\n",
        "\n",
        "        epochs_x = list(range(1, len(train_accuracies) + 1))\n",
        "        epochs_x_ = list(range(1, len(train_losses) + 1))\n",
        "        plt.figure(figsize=(12, 6))\n",
        "\n",
        "        # Creating two y-axes\n",
        "        fig, ax1 = plt.subplots()\n",
        "\n",
        "        # Plotting training and validation accuracies\n",
        "        plt.subplot(1, 2, 1)\n",
        "        plt.plot(epochs_x, train_accuracies, 'b-o', label='Train Accuracy')\n",
        "        plt.plot(epochs_x, val_accuracies, 'r-+', label='Validation Accuracy')\n",
        "        plt.title('Training and Validation Accuracy')\n",
        "        plt.xlabel('Epochs')\n",
        "        plt.ylabel('Accuracy')\n",
        "        plt.legend(loc='best')\n",
        "\n",
        "        # Plotting training and validation losses\n",
        "        plt.subplot(1, 2, 2)\n",
        "        plt.plot(epochs_x_, train_losses, 'g-o', label='Train Loss')\n",
        "        plt.plot(epochs_x_, val_losses, 'k-+', label='Validation Loss')\n",
        "        plt.title('Training and Validation Loss')\n",
        "        plt.xlabel('Epochs')\n",
        "        plt.ylabel('Loss')\n",
        "        plt.legend(loc='best')\n",
        "\n",
        "        plt.tight_layout()\n",
        "        plt.show()"
      ]
    },
    {
      "cell_type": "code",
      "execution_count": null,
      "metadata": {
        "id": "NevIYgxlyXdX"
      },
      "outputs": [],
      "source": [
        "trainer = BiLSTMTrainer(model, train_loader=train_loader, val_loader=val_loader)"
      ]
    },
    {
      "cell_type": "code",
      "execution_count": null,
      "metadata": {
        "id": "dQscVwwDyY8S"
      },
      "outputs": [],
      "source": [
        "trainer.train()"
      ]
    }
  ],
  "metadata": {
    "accelerator": "GPU",
    "colab": {
      "gpuType": "T4",
      "provenance": []
    },
    "kernelspec": {
      "display_name": "Python 3",
      "name": "python3"
    },
    "language_info": {
      "name": "python"
    }
  },
  "nbformat": 4,
  "nbformat_minor": 0
}